{
 "cells": [
  {
   "cell_type": "markdown",
   "id": "01f331b3-2c53-4b7d-b2cc-4d8eb19baf39",
   "metadata": {},
   "source": [
    "# 几何"
   ]
  },
  {
   "cell_type": "markdown",
   "id": "5aa5e975-f7ed-40cc-8702-cda75aa8ee9e",
   "metadata": {},
   "source": [
    "## 几何的历史和发展"
   ]
  },
  {
   "cell_type": "markdown",
   "id": "22f84a4c",
   "metadata": {},
   "source": [
    "## 点动成线，线动成面，面动成体"
   ]
  },
  {
   "cell_type": "markdown",
   "id": "dfe3021d",
   "metadata": {},
   "source": [
    "### 点\n",
    "端点 (endpoint)  \n",
    "中点 (midpoint)  \n",
    "起点 (initial point)  \n",
    "终点 (terminal point)  \n",
    "圆心 (center)  \n",
    "切点 (point of tangency)  \n",
    "顶点 (vertex)  \n",
    "交点 (point of intersection)。  \n",
    "端点 (endpoint)  \n",
    "点和点之间的线段长度叫距离 (distance)。"
   ]
  },
  {
   "cell_type": "markdown",
   "id": "84344dd9",
   "metadata": {},
   "source": [
    "### 线\n",
    "直线 (line)   \n",
    "射线 (ray 或 half-line)   \n",
    "线段 (line segment) \n",
    "向量 (vector)   \n",
    "水平线 (horizontal line)  \n",
    "斜线 (oblique line)   \n",
    "竖直线 (vertical line)  \n",
    "边 (edge)  \n",
    "曲线 (curve 或 curved line)  \n",
    "等高线 (contour line)   \n",
    "法线(normal line)  \n",
    "切线 (tangent line)  \n",
    "割线 (secant line)   \n",
    "\n",
    "圆的切线的定义和函数曲线的切线的定义不同。  \n",
    "圆是用几何的方法定义切线。  \n",
    "函数曲线是用极限等的方法定义切线。\n",
    "\n",
    "很多时候认为重合就是一种平行。\n",
    "\n",
    "平行 (parallel)  \n",
    "相交 (intersecting)  \n",
    "垂直(perpendicular)  \n",
    "重合 (coinciding)"
   ]
  },
  {
   "cell_type": "markdown",
   "id": "f84aef6a",
   "metadata": {},
   "source": [
    "### 欧几里得的五个公理\n",
    "* 任意两点可以画一条直线；\n",
    "* 任意线段都可以无限延伸成一条直线；\n",
    "* 给定任意线段， 以该线段为半径、 一个端点为圆心，可以画一个圆；\n",
    "* 所有直角都全等；\n",
    "* 两直线被第三条直线所截，如果同侧两内角之和小于两个直角之和， 则两条直线则会在该侧相交。\n",
    "\n",
    "### 正多边形\n",
    "等边三角形 (equilateral triangle)  \n",
    "正方形 (square)\n",
    "正五边形 (pentagon)  \n",
    "正六边形 (hexagon)  )  \n",
    "正七边形 (heptagon)  \n",
    "正八边形 (octagon)  "
   ]
  },
  {
   "cell_type": "code",
   "execution_count": null,
   "id": "0d75fde9-25ca-4d18-b725-9666cffdc829",
   "metadata": {
    "tags": []
   },
   "outputs": [],
   "source": [
    "# Bk3_Ch3_01\n",
    "# 绘制几种正多边形\n",
    "\n",
    "import matplotlib.pyplot as plt\n",
    "from matplotlib.patches import RegularPolygon, Circle\n",
    "import numpy as np\n",
    "\n",
    "for num_vertices in [3,4,5,6,7,8]:\n",
    "    \n",
    "    fig,ax = plt.subplots()\n",
    "    ax.set_aspect('equal')\n",
    "\n",
    "    hexagon_inner = RegularPolygon((0,0), numVertices=num_vertices,\n",
    "                                   radius=1,alpha=0.2,edgecolor='k')\n",
    "    \n",
    "    ax.add_patch(hexagon_inner)\n",
    "\n",
    "    plt.axis('off')\n",
    "\n",
    "    plt.xlim(-1.5,1.5)\n",
    "    plt.ylim(-1.5,1.5)\n",
    "    plt.show()"
   ]
  },
  {
   "cell_type": "markdown",
   "id": "317f40b9-86ba-4894-a86e-b4cdb1910f49",
   "metadata": {},
   "source": [
    "### 三维几何体\n",
    "正球形 (sphere)  \n",
    "圆柱体 (cylinder)  \n",
    "圆锥 (cone)  \n",
    "锥台 (cone frustum)  \n",
    "正方体、正六面体 (cube)  \n",
    "长方体 (cuboid)  \n",
    "平行六面体 (parallelepiped)  \n",
    "四棱台 (square pyramid frustum)  \n",
    "四棱锥 (square-based pyramid)  \n",
    "三棱锥 (triangle-based pyramid)  \n",
    "三棱柱 (triangular prism)  \n",
    "四面体 (tetrahedron)  \n",
    "八面体 (octahedron)  \n",
    "五棱柱 (pentagonal prism)  \n",
    "六棱柱 (hexagonal prism)  \n",
    "五棱锥 (pentagonal prism)  \n",
    "\n",
    "柏拉图立体 (Platonic solid)，又称正多面体。  "
   ]
  },
  {
   "cell_type": "markdown",
   "id": "3c70e14f-aabd-4d5c-93f6-df84deeb0682",
   "metadata": {},
   "source": [
    "### 几何变换 $\\bigstar$\n",
    "\n",
    "几何变换(geometric transformation)是这套丛书最重要的话题之一。\n",
    "\n",
    "几何变换的方式：  \n",
    "* 平移(translate)\n",
    "* 旋转(rotation)\n",
    "* 镜像(reflection)\n",
    "* 缩放(scaling)\n",
    "* 投影(projection)\n",
    "    - 缩小(reduction)\n",
    "    - 放大(enlargement)"
   ]
  },
  {
   "cell_type": "markdown",
   "id": "ae6d0721-4125-4558-b9de-87479b8964a0",
   "metadata": {},
   "source": [
    "### 投影\n",
    "\n",
    "数学中最常见的投影是正投影。 正投影中， 投影线垂直于投影面。 线性代数中，我们管这类投影叫正交投影 (orthogonal projection)"
   ]
  },
  {
   "cell_type": "markdown",
   "id": "6c7ae904-0e0e-4655-bef1-0717f8382911",
   "metadata": {},
   "source": [
    "## 角度和弧度"
   ]
  },
  {
   "cell_type": "markdown",
   "id": "06c4401a-8ccc-4569-8cc7-fba772443fb3",
   "metadata": {},
   "source": [
    "### 角度\n",
    "\n",
    "度 (degree) 是一种常用的角度度量单位。 角度可以用量角器 (protractor) 测量。 "
   ]
  },
  {
   "cell_type": "markdown",
   "id": "07e696fb-bbe0-4c10-9626-58f538e98b62",
   "metadata": {},
   "source": [
    "### 弧度\n",
    "\n",
    "弧度 (radian) 常简写作 rad。 1 个弧度相当于1 rad $\\approx$ 57.2958°  \n",
    "在math库中，math.radians()函数将角度换成弧度；math.degrees()将弧度换成角度。  \n",
    "NumPy中，可以用numpy.rad2deg()函数将弧度转化为角度，用numpy.deg2rad()将角度转化为弧度。\n",
    "$$\n",
    "360° = 2 \\pi rad \\\\\n",
    "180° = \\pi rad \\\\\n",
    "90° = {\\pi \\over 2} rad \\\\\n",
    "45° = {\\pi \\over 4} rad \\\\\n",
    "30° = {\\pi \\over 6} rad\n",
    "$$\n"
   ]
  },
  {
   "cell_type": "markdown",
   "id": "abfed4ea-28f6-4dd2-a723-c9cabfa5cd91",
   "metadata": {},
   "source": [
    "### 正角和负角\n",
    "如果旋转为逆时针 (counter-clockwise)， 角度为正角 (positive angle)。 如果旋转为顺时针(clockwise)， 角度为负角 (negative angle)。"
   ]
  },
  {
   "cell_type": "markdown",
   "id": "cd0a6f2a-ed8f-45fb-b9d4-bdd374cb9fd7",
   "metadata": {},
   "source": [
    "### 锐角、直角、钝角\n",
    "\n",
    "锐角 (acute angle) 是指小于 90°的角， 直角 (right angle) 是指等于 90°的角， 钝角 (obtuse angle)是指大于 90°并且小于 180°的角。  \n",
    "这三个角度，在线性代数、 数据科学中，它们的内涵将得到不断丰富。※"
   ]
  },
  {
   "cell_type": "markdown",
   "id": "9ad03610-9b1b-4f04-8679-07786d9e7238",
   "metadata": {},
   "source": [
    "## 勾股定理和三角函数"
   ]
  },
  {
   "cell_type": "markdown",
   "id": "35889a9a-28f3-47bc-8ffe-dd5c92b8195b",
   "metadata": {},
   "source": [
    "### 勾股定理"
   ]
  },
  {
   "cell_type": "markdown",
   "id": "adbe156c-bfbe-4787-a9a5-6ff553a2a0f7",
   "metadata": {},
   "source": [
    "### 三角函数\n",
    "\n",
    "直角三角形的某个锐角$\\theta$，其对边为$a$，邻边为$b$，斜边为$c$。\n",
    "\n",
    "* $\\theta$的**正弦**(sine)是对边$a$与斜边$c$的比值：\n",
    "$$\n",
    "sin\\theta={a \\over c}\n",
    "$$\n",
    "$\\quad$ numpy.sin()可以用来计算弧度的正弦值。\n",
    "\n",
    "* $\\theta$的**余弦**(consine)是邻边$b$与斜边$c$的比值：\n",
    "$$\n",
    "cos\\theta={b \\over c}\n",
    "$$\n",
    "$\\quad$ numpy.cos()可以用来计算弧度的余弦值。\n",
    "\n",
    "* $\\theta$的**正切**(tangent)是对边$a$与邻边$b$的比值：\n",
    "$$\n",
    "tan\\theta={a \\over b}\n",
    "$$\n",
    "$\\quad$ numpy.tan()可以用来计算弧度的正切值。\n",
    "\n",
    "* $\\theta$的**余切**(cotangent)是邻边$b$与对边$a$的比值，是正切的倒数：\n",
    "$$\n",
    "cot\\theta={b \\over a}={1 \\over tan\\theta}\n",
    "$$\n",
    "\n",
    "* $\\theta$的**正割**(secant)是斜边$c$与邻边$b$的比值，是余弦的倒数：\n",
    "$$\n",
    "sec\\theta={c \\over b}={1 \\over cos\\theta}\n",
    "$$\n",
    "\n",
    "* $\\theta$的**余割**(cosecant)是斜边$c$与对边$a$的比值，是正弦的倒数：\n",
    "$$\n",
    "csc\\theta={c \\over a}={1 \\over sin\\theta}\n",
    "$$\n"
   ]
  },
  {
   "cell_type": "markdown",
   "id": "9d4e88d9-8e4b-417d-b448-143c28551d95",
   "metadata": {},
   "source": [
    "### 反三角函数\n",
    "\n",
    "反三角函数 (inverse trigonometric function) 则是通过三角函数值来反求弧度或角度。 "
   ]
  },
  {
   "cell_type": "markdown",
   "id": "06b71f97-9a99-4c69-85ff-1e29b5e3bb48",
   "metadata": {},
   "source": [
    "### 余弦定理\n",
    "余弦定理(law of cosines)的三个等式如下：\n",
    "$$\n",
    "\\begin{cases}\n",
    "a^2=b^2+c^2-2bc \\cdot cos \\alpha \\\\\n",
    "b^2=a^2+c^2-2ac \\cdot cos \\beta \\\\\n",
    "c^2=a^2+b^2-2ab \\cdot cos \\gamma\n",
    "\\end{cases}\n",
    "$$\n",
    "其中，$a$是角$\\alpha$的对边，$b$是角$\\beta$的对边，$c$是角$\\gamma$的对边。  \n",
    "在机器学习和数据科学中， 余弦定理格外重要。 我们会在向量加减法、方差协方差运算、余弦相似度等看到余弦定理的影子。\n",
    "当$\\alpha、\\beta、\\gamma$三者之一为直角时，上面中的一个等式就变成勾股定理等式。"
   ]
  },
  {
   "cell_type": "markdown",
   "id": "058b4082",
   "metadata": {},
   "source": [
    "## 圆周率估算：割圆术\n",
    "\n",
    "圆周率（$pi, \\pi$）是圆的周长和直径之比。"
   ]
  },
  {
   "attachments": {},
   "cell_type": "markdown",
   "id": "47793138",
   "metadata": {},
   "source": [
    "### 内接和外切正多边形\n",
    "正多边形的边数越多，内接和外切正多边形越靠近正圆。  \n",
    "正圆为单位圆时，单位圆的周长恰好为$2\\pi$"
   ]
  },
  {
   "cell_type": "code",
   "execution_count": null,
   "id": "cf142fab",
   "metadata": {},
   "outputs": [],
   "source": [
    "# BK3_Ch3_02\n",
    "\n",
    "import matplotlib.pyplot as plt\n",
    "from matplotlib.patches import RegularPolygon, Circle\n",
    "import numpy as np\n",
    "\n",
    "for num_vertices in [6,8,10,12,14,16]:\n",
    "    fig,ax=plt.subplots()\n",
    "    ax.set_aspect('equal')\n",
    "\n",
    "    hexagon_inner = RegularPolygon((0,0), numVertices=num_vertices,\n",
    "                                   radius=1,alpha=0.2,edgecolor='k')\n",
    "    ax.add_patch(hexagon_inner)\n",
    "\n",
    "    hexagon_outer = RegularPolygon((0,0), numVertices=num_vertices,\n",
    "                                   radius=1/np.cos(np.pi/num_vertices),\n",
    "                                   alpha=0.2,edgecolor='k')\n",
    "    ax.add_patch(hexagon_outer)\n",
    "\n",
    "    circle = Circle((0,0), radius=1, facecolor='none',edgecolor='k')\n",
    "    ax.add_patch(circle)\n",
    "\n",
    "    plt.axis('off')\n",
    "\n",
    "    plt.xlim(-1.5,1.5)\n",
    "    plt.ylim(-1.5,1.5)\n",
    "    plt.show()"
   ]
  },
  {
   "attachments": {},
   "cell_type": "markdown",
   "id": "1fb302df",
   "metadata": {},
   "source": [
    "### 估算圆周率上下界\n",
    "\n",
    "给定一个单位圆（半径为$1$，周长为$2\\pi$），单位圆外切和内接相同边数（$n$）的正多边形。  \n",
    "两个正多边形都可以分割为$2n$个三角形，这样圆周360°($2 \\pi$)被均匀的分为$2n$份，每一份的角度为：\n",
    "$$\n",
    "\\theta = {{2 \\pi} \\over {2n}}={{\\pi} \\over n}\n",
    "$$\n",
    "外切正多边形的周长是估算单位圆周长的上界：\n",
    "$$\n",
    "2\\pi<2n \\cdot tan{\\pi \\over n}\n",
    "$$\n",
    "即，\n",
    "$$\n",
    "\\pi<n \\cdot tan{\\pi \\over n}\n",
    "$$\n",
    "内接正多边形的周长是估算单位圆周长的下界：\n",
    "$$\n",
    "2n \\cdot sin{\\pi \\over n}<2 \\pi\n",
    "$$\n",
    "即，\n",
    "$$\n",
    "n \\cdot sin{\\pi \\over n}< \\pi\n",
    "$$\n",
    "综上，可以得到圆周率估算的上下界：\n",
    "$$\n",
    "n \\cdot sin{\\pi \\over n}< \\pi < n \\cdot tan{\\pi \\over n}\n",
    "$$\n",
    "\n",
    "在数学上，收敛的意思可以是是汇聚于一点，靠近一条线，向某一个值不断靠近。  \n",
    "而逼近则是近似，代表高度相似，但是不完全相同。"
   ]
  },
  {
   "cell_type": "code",
   "execution_count": 7,
   "id": "2da0d3ee",
   "metadata": {},
   "outputs": [
    {
     "data": {
      "text/plain": [
       "Text(42.722222222222214, 0.5, 'Estimate of $\\\\pi$')"
      ]
     },
     "execution_count": 7,
     "metadata": {},
     "output_type": "execute_result"
    },
    {
     "data": {
      "image/png": "[encoded data removed]",
      "text/plain": [
       "<Figure size 640x480 with 1 Axes>"
      ]
     },
     "metadata": {},
     "output_type": "display_data"
    }
   ],
   "source": [
    "# Bk3_Ch3_03\n",
    "\n",
    "import numpy as np\n",
    "import matplotlib.pyplot as plt\n",
    "\n",
    "n_start = 6\n",
    "n_stop = 50\n",
    "# 生成一个数组，从n_start开始，到n_stop，共生成n_stop-n_start+1个\n",
    "n_array = np.linspace(n_start,n_stop,n_stop-n_start+1)\n",
    "\n",
    "pi_lower_b = np.sin(np.pi/n_array)*n_array\n",
    "pi_upper_b = np.tan(np.pi/n_array)*n_array\n",
    "\n",
    "fig,ax=plt.subplots()\n",
    "\n",
    "plt.axhline(y=np.pi, color='r', linestyle='-')\n",
    "plt.plot(n_array, pi_lower_b, color='b')\n",
    "plt.plot(n_array, pi_upper_b, color='g')\n",
    "plt.fill_between(n_array, pi_lower_b, pi_upper_b, color='#deeaf6')\n",
    "plt.tight_layout()\n",
    "plt.xlabel('Number of sides, n')\n",
    "plt.ylabel('Estimate of $\\pi$')\n"
   ]
  },
  {
   "attachments": {},
   "cell_type": "markdown",
   "id": "b751e0bc",
   "metadata": {},
   "source": [
    "### 阿基米德的方法 \n",
    "\n",
    "根据上面的推导，对于正$n$边形，令\n",
    "$$\n",
    "B_n=n \\cdot sin{\\pi \\over n} \\\\\n",
    "A_n=n \\cdot tan{\\pi \\over n}\n",
    "$$\n",
    "$B_n$是$\\pi$的下限，$A_n$是$\\pi$的上限。当多边形边数加倍时，即从正$n$边形加倍到正$2n$边形，阿基米德利用三角恒等式，发现如下量化关系：\n",
    "$$\n",
    "A_{2n} = {2A_nB_n \\over A_n+B_n}\\\\\n",
    "B_{2n} = \\sqrt{A_{2n}B_n}\n",
    "$$\n",
    "下面程序图所示为阿基米德估算圆周率的结果， 可见阿基米德方法收敛过程计算效率更高。"
   ]
  },
  {
   "cell_type": "code",
   "execution_count": 16,
   "id": "a57a1579",
   "metadata": {},
   "outputs": [
    {
     "data": {
      "text/plain": [
       "Text(42.722222222222214, 0.5, 'Estimate of $\\\\pi$')"
      ]
     },
     "execution_count": 16,
     "metadata": {},
     "output_type": "execute_result"
    },
    {
     "data": {
      "image/png": "[encoded data removed]",
      "text/plain": [
       "<Figure size 640x480 with 1 Axes>"
      ]
     },
     "metadata": {},
     "output_type": "display_data"
    }
   ],
   "source": [
    "# Bk3_Ch3_04\n",
    "\n",
    "import numpy as np\n",
    "import matplotlib.pyplot as plt\n",
    "\n",
    "n_start = 6\n",
    "\n",
    "B_6=np.sin(np.pi/n_start)*n_start\n",
    "A_6=np.tan(np.pi/n_start)*n_start\n",
    "\n",
    "B_array=[]\n",
    "A_array=[]\n",
    "n_array=[6,12,24,48,96]\n",
    "\n",
    "B_i=B_6\n",
    "A_i=A_6\n",
    "n_i=n_start\n",
    "\n",
    "for i in n_array:\n",
    "    B_array.append(B_i)\n",
    "    A_array.append(A_i)\n",
    "    # updating\n",
    "    A_i=2*A_i*B_i/(A_i+B_i)\n",
    "    B_i=np.sqrt(A_i*B_i)\n",
    "\n",
    "B_array=np.array(B_array)\n",
    "A_array=np.array(A_array)\n",
    "n_array=np.array(n_array)\n",
    "\n",
    "fig, ax = plt.subplots()\n",
    "\n",
    "plt.axhline(y=np.pi,color='r',linestyle='--')\n",
    "plt.plot(n_array,B_array, color='b',marker='x')\n",
    "plt.plot(n_array,A_array,color='g', marker='x')\n",
    "plt.fill_between(n_array, B_array, A_array, color='#deeaf6')\n",
    "plt.tight_layout()\n",
    "plt.xticks(n_array)\n",
    "plt.xlim(6,96)\n",
    "plt.xlabel('Number of sides, n')\n",
    "plt.ylabel('Estimate of $\\pi$')"
   ]
  }
 ],
 "metadata": {
  "kernelspec": {
   "display_name": "Python 3 (ipykernel)",
   "language": "python",
   "name": "python3"
  },
  "language_info": {
   "codemirror_mode": {
    "name": "ipython",
    "version": 3
   },
   "file_extension": ".py",
   "mimetype": "text/x-python",
   "name": "python",
   "nbconvert_exporter": "python",
   "pygments_lexer": "ipython3",
   "version": "3.10.6"
  }
 },
 "nbformat": 4,
 "nbformat_minor": 5
}
