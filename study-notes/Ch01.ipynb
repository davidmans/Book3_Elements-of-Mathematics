{
 "cells": [
  {
   "cell_type": "markdown",
   "id": "c67a40ed-046e-43c9-b358-9003dd6de5ba",
   "metadata": {},
   "source": [
    "# Chapter 1 万物皆数 | 《数学要素》 | 从加减乘除到机器学习"
   ]
  },
  {
   "cell_type": "code",
   "execution_count": 2,
   "id": "29fe6c8f-e39a-4b15-97ff-13dc5bb5497f",
   "metadata": {},
   "outputs": [
    {
     "name": "stdout",
     "output_type": "stream",
     "text": [
      "PI =  3.141592653589793\n",
      "e =  2.718281828459045\n",
      "sqrt(2) =  1.4142135623730951\n"
     ]
    }
   ],
   "source": [
    "# Bk_Ch1_01\n",
    "# use python buildin Math library print irrational numbers\n",
    "# Import math library\n",
    "import math\n",
    "\n",
    "# Print the value of PI\n",
    "print('PI = ', math.pi)\n",
    "\n",
    "# Print the value of e\n",
    "print('e = ', math.e)\n",
    "\n",
    "#Print the value of square root of 2\n",
    "print('sqrt(2) = ', math.sqrt(2))"
   ]
  },
  {
   "cell_type": "code",
   "execution_count": 13,
   "id": "2fd5028a",
   "metadata": {},
   "outputs": [
    {
     "name": "stdout",
     "output_type": "stream",
     "text": [
      "print 1000 digits of PI behind decimal point\n",
      "3.1415926535897932384626433832795028841971693993751058209749445923078164062862089986280348253421170679821480865132823066470938446095505822317253594081284811174502841027019385211055596446229489549303819644288109756659334461284756482337867831652712019091456485669234603486104543266482133936072602491412737245870066063155881748815209209628292540917153643678925903600113305305488204665213841469519415116094330572703657595919530921861173819326117931051185480744623799627495673518857527248912279381830119491298336733624406566430860213949463952247371907021798609437027705392171762931767523846748184676694051320005681271452635608277857713427577896091736371787214684409012249534301465495853710507922796892589235420199561121290219608640344181598136297747713099605187072113499999983729780499510597317328160963185950244594553469083026425223082533446850352619311881710100031378387528865875332083814206171776691473035982534904287554687311595628638823537875937519577818577805321712268066130019278766111959092164201989\n",
      "print 1000 digits of e behind decimal point\n",
      "2.7182818284590452353602874713526624977572470936999595749669676277240766303535475945713821785251664274274663919320030599218174135966290435729003342952605956307381323286279434907632338298807531952510190115738341879307021540891499348841675092447614606680822648001684774118537423454424371075390777449920695517027618386062613313845830007520449338265602976067371132007093287091274437470472306969772093101416928368190255151086574637721112523897844250569536967707854499699679468644549059879316368892300987931277361782154249992295763514822082698951936680331825288693984964651058209392398294887933203625094431173012381970684161403970198376793206832823764648042953118023287825098194558153017567173613320698112509961818815930416903515988885193458072738667385894228792284998920868058257492796104841984443634632449684875602336248270419786232090021609902353043699418491463140934317381436405462531520961836908887070167683964243781405927145635490613031072085103837505101157477041718986106873969655212671546889570350354\n",
      "print 1000 digits squart root of 2 PI behind decimal point\n",
      "1.4142135623730950488016887242096980785696718753769480731766797379907324784621070388503875343276415727350138462309122970249248360558507372126441214970999358314132226659275055927557999505011527820605714701095599716059702745345968620147285174186408891986095523292304843087143214508397626036279952514079896872533965463318088296406206152583523950547457502877599617298355752203375318570113543746034084988471603868999706990048150305440277903164542478230684929369186215805784631115966687130130156185689872372352885092648612494977154218334204285686060146824720771435854874155657069677653720226485447015858801620758474922657226002085584466521458398893944370926591800311388246468157082630100594858704003186480342194897278290641045072636881313739855256117322040245091227700226941127573627280495738108967504018369868368450725799364729060762996941380475654823728997180326802474420629269124859052181004459842150591120249441341728531478105803603371077309182869314710171111683916581726889419758716582152128229518488472\n"
     ]
    }
   ],
   "source": [
    "# Bk_Ch1_02\n",
    "from mpmath import mp\n",
    "\n",
    "# set the number precision\n",
    "mp.dps = 1000 + 1\n",
    "\n",
    "print('print 1000 digits of PI behind decimal point')\n",
    "print(mp.pi)\n",
    "\n",
    "print('print 1000 digits of e behind decimal point')\n",
    "print(mp.e)\n",
    "\n",
    "print('print 1000 digits squart root of 2 PI behind decimal point')\n",
    "print(mp.sqrt(2))\n"
   ]
  },
  {
   "cell_type": "code",
   "execution_count": 43,
   "id": "7a0f9b67",
   "metadata": {},
   "outputs": [],
   "source": [
    "# TODO: use seaborn library draw 1000 digits of pi behaid deciaml point's heatmap"
   ]
  },
  {
   "cell_type": "code",
   "execution_count": 15,
   "id": "77843856",
   "metadata": {
    "tags": []
   },
   "outputs": [
    {
     "name": "stdout",
     "output_type": "stream",
     "text": [
      "Enter a number:  654\n",
      "654.0 is even.\n"
     ]
    }
   ],
   "source": [
    "# Bk3_Ch1_03\n",
    "# judgement a number is even or odd\n",
    "num = float(input(\"Enter a number: \"))\n",
    "\n",
    "if num.is_integer():\n",
    "    if(num % 2 == 0):\n",
    "        print(f'{num} is even.')\n",
    "    else:\n",
    "        print(f'{num} is odd')\n",
    "else:\n",
    "    print(f'{num} is not an integer.')"
   ]
  },
  {
   "cell_type": "markdown",
   "id": "e60fed48",
   "metadata": {},
   "source": [
    "## 加减法"
   ]
  },
  {
   "cell_type": "markdown",
   "id": "954b67f8",
   "metadata": {},
   "source": [
    "### 加法"
   ]
  },
  {
   "cell_type": "code",
   "execution_count": 14,
   "id": "e8a68a9f",
   "metadata": {},
   "outputs": [
    {
     "name": "stdout",
     "output_type": "stream",
     "text": [
      "The sum of 2 and 3 is 5\n"
     ]
    }
   ],
   "source": [
    "# Bk3_Ch1_04\n",
    "\n",
    "num1 = 2\n",
    "num2 = 3\n",
    "\n",
    "# add two number\n",
    "sum = num1 + num2\n",
    "\n",
    "# display the computation\n",
    "print(f'The sum of {num1} and {num2} is {sum}')"
   ]
  },
  {
   "cell_type": "code",
   "execution_count": 15,
   "id": "f48abfe6",
   "metadata": {},
   "outputs": [
    {
     "name": "stdout",
     "output_type": "stream",
     "text": [
      "The sum of 54 and 45 is 99.0.\n"
     ]
    }
   ],
   "source": [
    "# Bk3_Ch1_05\n",
    "\n",
    "# user input numbers\n",
    "num1 = input('Enter addend number: ')\n",
    "num2 = input('Enter summand number: ')\n",
    "\n",
    "# add two numbers\n",
    "sum = float(num1) + float(num2)\n",
    "\n",
    "# display the computation\n",
    "print(f'The sum of {num1} and {num2} is {sum}.')"
   ]
  },
  {
   "cell_type": "markdown",
   "id": "562a6da6",
   "metadata": {},
   "source": [
    "### 累计求和\n",
    "累计求和的结果不是一个数字，而是一个数列。  \n",
    "例如:  \n",
    "  因为，  \n",
    "    1 = 1  \n",
    "    1 + 2 = 3  \n",
    "    1 + 2 + 3 = 6  \n",
    "    1 + 2 + 3 + 4 = 10  \n",
    "    1 + 2 + 3 + 4 + 5 = 15  \n",
    "    1 + 2 + 3 + 4 + 5 + 6 = 21  \n",
    "    1 + 2 + 3 + 4 + 5 + 6 + 7 = 28  \n",
    "    1 + 2 + 3 + 4 + 5 + 6 + 7 + 8 = 36  \n",
    "    1 + 2 + 3 + 4 + 5 + 6 + 7 + 8 + 9 = 45  \n",
    "    1 + 2 + 3 + 4 + 5 + 6 + 7 + 8 + 9 + 10 = 55  \n",
    "  故，  \n",
    "  自然数1到10的累计求和的结果是:  \n",
    "  1, 3, 6, 10, 15, 21, 28, 36, 45, 55  \n",
    "  \n",
    "**累计求和在机器学习中很常用**"
   ]
  },
  {
   "cell_type": "code",
   "execution_count": 20,
   "id": "0aa856cb",
   "metadata": {},
   "outputs": [
    {
     "name": "stdout",
     "output_type": "stream",
     "text": [
      "[ 1.  2.  3.  4.  5.  6.  7.  8.  9. 10.]\n",
      "[ 1.  3.  6. 10. 15. 21. 28. 36. 45. 55.]\n"
     ]
    }
   ],
   "source": [
    "# Bk3_Ch1_06\n",
    "import numpy as np\n",
    "\n",
    "a_i = np.linspace(1, 10, 10)\n",
    "print(a_i)\n",
    "\n",
    "a_i_cumsum = np.cumsum(a_i)\n",
    "print(a_i_cumsum)"
   ]
  },
  {
   "cell_type": "markdown",
   "id": "dae2c1a3",
   "metadata": {},
   "source": [
    "### 减法"
   ]
  },
  {
   "cell_type": "code",
   "execution_count": 1,
   "id": "8b1b2192",
   "metadata": {},
   "outputs": [
    {
     "name": "stdout",
     "output_type": "stream",
     "text": [
      "The difference of 5 and 3 is 2.\n"
     ]
    }
   ],
   "source": [
    "# Bk_Ch1_07\n",
    "\n",
    "num1 = 5\n",
    "num2 = 3\n",
    "\n",
    "# minus two number\n",
    "diff = num1 - num2\n",
    "\n",
    "# display the computation\n",
    "print(f'The difference of {num1} and {num2} is {diff}.')"
   ]
  },
  {
   "cell_type": "markdown",
   "id": "2ca62d9b",
   "metadata": {},
   "source": [
    "### 相反数\n",
    "\n",
    "5的相反数是-5(negative five)"
   ]
  },
  {
   "cell_type": "markdown",
   "id": "a5267c33",
   "metadata": {
    "tags": []
   },
   "source": [
    "## 向量\n",
    "线性代数在机器学习中是最重要的数学知识\n",
    "向量分行向量和列向量  \n",
    "如下面对代码运行结果所示：a为行向量，b为列向量"
   ]
  },
  {
   "cell_type": "code",
   "execution_count": 7,
   "id": "a4add5e0",
   "metadata": {},
   "outputs": [
    {
     "name": "stdout",
     "output_type": "stream",
     "text": [
      "[[1 2 3]]\n",
      "[[1]\n",
      " [2]\n",
      " [3]]\n"
     ]
    }
   ],
   "source": [
    "# use numpy define row vector and column vector\n",
    "import numpy as np\n",
    "# row vector\n",
    "a = np.array([[1,2,3]])\n",
    "print(a)\n",
    "# colum vector\n",
    "b = np.array([[1],[2],[3]])\n",
    "print(b)"
   ]
  },
  {
   "cell_type": "markdown",
   "id": "c443424e",
   "metadata": {},
   "source": [
    "### 向量转置\n",
    "行向量转置（transpose）得到列向量，列向量转置的导航向量，符号标记为右上角一个$\\rm T$。  \n",
    "行向量转置时，顺时针转动90度成为列向量。列向量转置时，逆时针旋转90度得到行向量。\n",
    "\n",
    "一般的，$A$表示一个矩阵，$a$表示一个向量。  \n",
    "$[a_1,a_2,a_3,\\cdots\\,a_n]$，读作\"$n$ row vector, $a$ sub one, $a$ sub two, $a$ sub three, dot dot dot, $a$ sub $n$\""
   ]
  },
  {
   "cell_type": "code",
   "execution_count": 5,
   "id": "53aa88d6",
   "metadata": {},
   "outputs": [
    {
     "name": "stdout",
     "output_type": "stream",
     "text": [
      "transposed a row vector:\n",
      "[[1]\n",
      " [2]\n",
      " [3]]\n",
      "transposed a column vectr:\n",
      "[[4 5 6]]\n"
     ]
    }
   ],
   "source": [
    "# BK_Ch1_08\n",
    "# use numpy to transpose a vector\n",
    "import numpy as np\n",
    "\n",
    "a = np.array([[1,2,3]])\n",
    "b = np.array([[4],[5],[6]])\n",
    "# transpose a row vector to column vector\n",
    "a_tranposed = a.T\n",
    "print('transposed a row vector:')\n",
    "print(a_tranposed)\n",
    "# transpose a column vector to row vector\n",
    "b_transposed = b.T\n",
    "print('transposed a column vectr:')\n",
    "print(b_transposed)"
   ]
  },
  {
   "cell_type": "markdown",
   "id": "90a672ec",
   "metadata": {},
   "source": [
    "## 矩阵\n",
    "矩阵(matrix)是将数字排列成表格，$n$行$D$列（记作$n \\times D$，读作\"$n$ by capital $D$\"）  \n",
    "$n$是矩阵的行数，读作\"number of rows in the matrix\"  \n",
    "$D$是矩阵的列数，读作\"number of columns in the matrix\"\n",
    "\n",
    "矩阵$X$中，元素(element)$x_{ij}$被称作$ij$元素($ij$ entry or $ij$ element)  \n",
    "元素$x_{ij}$表示矩阵$X$中的第$i$行，第$j$列元素，读作\"appears in row $i$ and column $j$\""
   ]
  },
  {
   "cell_type": "code",
   "execution_count": 9,
   "id": "867452a6",
   "metadata": {},
   "outputs": [
    {
     "name": "stdout",
     "output_type": "stream",
     "text": [
      "A_first_col:\n",
      "[1 4]\n",
      "A_first_col_V2:\n",
      "[[1]\n",
      " [4]]\n",
      "A_first_second_col_V2:\n",
      "[[1 2]\n",
      " [4 5]]\n",
      "A_first_third_col_V2:\n",
      "[[1 3]\n",
      " [4 6]]\n",
      "A_first_row:\n",
      "[[1 2 3]]\n",
      "A_second_row:\n",
      "[[4 5 6]]\n",
      "A_second_row_first_col:\n",
      "[4]\n"
     ]
    }
   ],
   "source": [
    "# BK_Ch1_09\n",
    "# use numpy to define a matrix and pick up an element or some elements\n",
    "import numpy as np\n",
    "\n",
    "# define a matrix called A\n",
    "A = np.array([[1,2,3],\n",
    "             [4,5,6]])\n",
    "\n",
    "# saved as one dimension row. dimension:（空间的）纬度，范围\n",
    "# guess:selected first colum from matrix and transposed to a row \n",
    "A_first_col = A[:, 0]\n",
    "print('A_first_col:')\n",
    "print(A_first_col)\n",
    "# saved as a column\n",
    "A_first_col_V2 = A[:,[0]]\n",
    "print('A_first_col_V2:')\n",
    "print(A_first_col_V2)\n",
    "# extract first and second columns\n",
    "A_first_second_col_V2 = A[:,[0, 1]]\n",
    "print('A_first_second_col_V2:')\n",
    "print(A_first_second_col_V2)\n",
    "# extract first and third columns\n",
    "A_first_third_col_V2 = A[:,[0, 2]]\n",
    "print('A_first_third_col_V2:')\n",
    "print(A_first_third_col_V2)\n",
    "# extract first row\n",
    "A_first_row = A[[0], :]\n",
    "print('A_first_row:')\n",
    "print(A_first_row)\n",
    "# extract second row\n",
    "A_second_row = A[[1], :]\n",
    "print('A_second_row:')\n",
    "print(A_second_row)\n",
    "# pick up i=2,j=1\n",
    "A_second_row_first_col = A[[1],[0]]\n",
    "print('A_second_row_first_col:')\n",
    "print(A_second_row_first_col)"
   ]
  },
  {
   "cell_type": "markdown",
   "id": "9f3b9e86",
   "metadata": {},
   "source": [
    "全套书使用鸢尾花卉数据集，全程安德森鸢尾花卉数据集(Anderson's Iris data set)进行学习"
   ]
  },
  {
   "cell_type": "markdown",
   "id": "e7eb1d21",
   "metadata": {},
   "source": [
    "### 矩阵分块\n",
    "矩阵分块的视角很重要，一个矩阵可以看做一排列向量，或者是一组行向量\n",
    "故，形状为$x \\times D$的矩阵$X$，可以有如下两种表达：  \n",
    "1.D个左右排列的列向量 \n",
    "$$\n",
    "​\t​\t​\tX_{nD} = [x_1 \\quad x_2 \\quad \\cdots \\quad x_D]  \n",
    "$$\n",
    "​​\t 其中$x_D$为有$n$个元素的的列向量  \n",
    "\n",
    "2.上下叠放的$n$个行向量\n",
    "$$\n",
    "X_{nD} = \n",
    "\\begin{bmatrix}\n",
    "    x^{(1)} \\\\\n",
    "    x^{(2)} \\\\\n",
    "    \\cdots  \\\\\n",
    "    x^{(n)} \\\\\n",
    "\\end{bmatrix}\n",
    "$$\n",
    "​​\t 其中，$x^{(n)}$为一个有$D$个元素的行向量"
   ]
  },
  {
   "cell_type": "markdown",
   "id": "60db2599-0e78-4742-aaae-a954e49c498c",
   "metadata": {},
   "source": [
    "### 矩阵转置\n",
    "矩阵转置(matrix transpose)是将矩阵的行列互换得到新的矩阵。\n",
    "如：\n",
    "$$\n",
    "\\begin{bmatrix}\n",
    "    1 & 2  \\\\\n",
    "    3 & 4  \\\\\n",
    "    5 & 6  \\\\\n",
    "\\end{bmatrix}_{3 \\times 2}=\n",
    "\\begin{bmatrix}\n",
    "  1 & 3 & 5 \\\\\n",
    "  2 & 4 & 6 \\\\\n",
    "\\end{bmatrix}_{2 \\times 3}\n",
    "$$\n",
    "\n",
    "矩阵$A$可以写成三个列向量左右排列$[a_1,a_2,a_3]$，对$A$转置的结果是：\n",
    "$$\n",
    "A^{\\rm T}= \n",
    "[a_1 \\quad a_2 \\quad a_3]^{\\rm T}=\n",
    "\\begin{bmatrix}\n",
    "  a_1^{\\rm T} \\\\\n",
    "  a_2^{\\rm T} \\\\\n",
    "  a_3^{\\rm T} \\\\\n",
    "\\end{bmatrix}\n",
    "$$\n",
    "\n",
    "例如：\n",
    "$$\n",
    "\\begin{bmatrix}\n",
    "  1&4&7\\\\\n",
    "  2&5&8\\\\\n",
    "  3&6&9\n",
    "\\end{bmatrix}^{\\rm T}=\n",
    "\\begin{bmatrix}\n",
    "\\begin{bmatrix}\n",
    "  1\\\\\n",
    "  2\\\\\n",
    "  3\n",
    "\\end{bmatrix}&\n",
    "\\begin{bmatrix}\n",
    "  4\\\\\n",
    "  5\\\\\n",
    "  6\n",
    "\\end{bmatrix}&\n",
    "\\begin{bmatrix}\n",
    "  7\\\\\n",
    "  8\\\\\n",
    "  9\n",
    "\\end{bmatrix}\n",
    "\\end{bmatrix}^{\\rm T}=\n",
    "\\begin{bmatrix}\n",
    "\\begin{bmatrix}\n",
    "  1&2&3\n",
    "\\end{bmatrix}\\\\\n",
    "\\begin{bmatrix}\n",
    "  4&5&6\n",
    "\\end{bmatrix}\\\\\n",
    "\\begin{bmatrix}\n",
    "  7&8&9\n",
    "\\end{bmatrix}\n",
    "\\end{bmatrix}=\n",
    "\\begin{bmatrix}\n",
    "  1&2&3\\\\\n",
    "  4&5&6\\\\\n",
    "  7&8&9\n",
    "\\end{bmatrix}\n",
    "$$"
   ]
  },
  {
   "cell_type": "markdown",
   "id": "f70be65b-f995-47c4-9bdf-b6d60d9679cc",
   "metadata": {},
   "source": [
    "### 矩阵的形状\n",
    "\n",
    "先有一个大致的了解"
   ]
  },
  {
   "cell_type": "markdown",
   "id": "ba8c8b8f",
   "metadata": {},
   "source": [
    "### 矩阵加减\n",
    "\n",
    "**形状相同，对应位置，批量加减**"
   ]
  },
  {
   "cell_type": "code",
   "execution_count": 41,
   "id": "e1e98a86",
   "metadata": {},
   "outputs": [
    {
     "name": "stdout",
     "output_type": "stream",
     "text": [
      "[5, 7, 9]\n",
      "[5, 7, 9]\n",
      "[5 7 9]\n",
      "[ 4 10 18]\n"
     ]
    }
   ],
   "source": [
    "# Bk_Ch1_10\n",
    "import numpy as np\n",
    "list1 = [1, 2, 3]\n",
    "list2 = [4, 5, 6]\n",
    "\n",
    "# by original python function、\n",
    "print([x + y for x, y in zip(list1, list2)])\n",
    "print(list(map(lambda x,y:x+y, list1, list2)))\n",
    "\n",
    "# by numpy library function\n",
    "x = np.array(list1)\n",
    "y = np.array(list2)\n",
    "print(x + y)\n",
    "print(np.multiply(list1, list2))"
   ]
  },
  {
   "cell_type": "markdown",
   "id": "bd8e8fcb",
   "metadata": {},
   "source": [
    "用for循环解决矩阵加减是最费力的方法。例如上面的代码，最常用的办法是向量化（vectorize）。  \n",
    "即，尽量采用向量运算避免循环计算"
   ]
  },
  {
   "cell_type": "code",
   "execution_count": 3,
   "id": "636ba9e2",
   "metadata": {
    "tags": []
   },
   "outputs": [
    {
     "name": "stdout",
     "output_type": "stream",
     "text": [
      "[[2, 2, 3], [4, 6, 6]]\n",
      "costed time:0.00017710s\n"
     ]
    }
   ],
   "source": [
    "# Bk_Ch1_11\n",
    "# use original python to complete vector plus and minus\n",
    "import time\n",
    "A = [[1, 2, 3],\n",
    "     [4, 5, 6]]\n",
    "B = [[1, 0, 0],\n",
    "     [0, 1, 0]]\n",
    "\n",
    "t_before = time.perf_counter()\n",
    "A_plus_B = [[A[i][j] + B[i][j]\n",
    "            for j in range(len(A[0]))]\n",
    "            for i in range(len(A))]\n",
    "t_after = time.perf_counter()\n",
    "print(A_plus_B)\n",
    "print(f'costed time:{t_after - t_before:.8f}s')\n"
   ]
  },
  {
   "cell_type": "code",
   "execution_count": 14,
   "id": "3931869f-5237-4fa3-9c07-533b9bba4679",
   "metadata": {
    "tags": []
   },
   "outputs": [
    {
     "name": "stdout",
     "output_type": "stream",
     "text": [
      "costed time:9.590000263415277e-05s\n",
      "[[2 2 3]\n",
      " [4 6 6]]\n",
      "costed time:0.00010200001997873187s\n",
      "[[2 2 3]\n",
      " [4 6 6]]\n"
     ]
    }
   ],
   "source": [
    "# Bk_Ch1_12\n",
    "# use numpy library to complete vector plus and minus\n",
    "import time\n",
    "import numpy as np\n",
    "\n",
    "A = [[1, 2, 3],\n",
    "     [4, 5, 6]]\n",
    "B = [[1, 0, 0],\n",
    "     [0, 1, 0]]\n",
    "t_before = time.perf_counter()\n",
    "result = np.array(A) + np.array(B)\n",
    "t_after = time.perf_counter()\n",
    "print(f'costed time:{t_after - t_before}s')\n",
    "print(result)\n",
    "\n",
    "t_before = time.perf_counter()\n",
    "result = np.add(A, B)\n",
    "t_after = time.perf_counter()\n",
    "print(f'costed time:{t_after - t_before}s')\n",
    "print(result)"
   ]
  }
 ],
 "metadata": {
  "kernelspec": {
   "display_name": "Python 3 (ipykernel)",
   "language": "python",
   "name": "python3"
  },
  "language_info": {
   "codemirror_mode": {
    "name": "ipython",
    "version": 3
   },
   "file_extension": ".py",
   "mimetype": "text/x-python",
   "name": "python",
   "nbconvert_exporter": "python",
   "pygments_lexer": "ipython3",
   "version": "3.10.6"
  }
 },
 "nbformat": 4,
 "nbformat_minor": 5
}
