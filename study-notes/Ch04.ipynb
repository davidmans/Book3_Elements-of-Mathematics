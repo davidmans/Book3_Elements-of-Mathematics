{
 "cells": [
  {
   "cell_type": "markdown",
   "metadata": {},
   "source": [
    "# 代数"
   ]
  },
  {
   "cell_type": "markdown",
   "metadata": {},
   "source": [
    "## 代数的前世今生：薪火相传"
   ]
  },
  {
   "cell_type": "markdown",
   "metadata": {},
   "source": [
    "## 集合"
   ]
  },
  {
   "cell_type": "markdown",
   "metadata": {},
   "source": [
    "### 集合与元素\n",
    "集合与元素的关系有两种： **属于** (belong to) $\\in$ ， **不属于** (not belong to)$\\notin$\n"
   ]
  },
  {
   "cell_type": "markdown",
   "metadata": {},
   "source": [
    "### 集合与集合\n",
    "如果集合$A$中的每一个元素也都是集合$B$中的元素，那么$A$是B的**子集**(subset)，记作$A \\subseteq B$。而$B$是$A$的**母集**，也称**超集**(superset)。  \n",
    "如果同时满足$A \\subseteq B$和$A \\not= B$，则称$A$是$B$的真子集，记作$A \\subset B$。  \n",
    "给定$A$和$B$两个集合，有所有属于$A$且属于$B$的元素组成的集合，叫做$A$与$B$的**交集**(intersection)，记作$A \\cap B$。\n",
    "$A$和$B$所有的元素合并组成的集合，叫做$A$和B的**并集**(union)，记作$A \\cup B$。  \n",
    "**补集**(complement)一般指*绝对补集*(absolute complement)。设$\\Omega$是一个集合，$A$是$\\Omega$的一个子集，由$\\Omega$中所有不属于$A$的元素组成的集合，叫做子集$A$在$\\Omega$中的绝对补集。  \n",
    "$A$中$B$的**相对补集**(relative complement)，是所有属于$A$但不属于$B$的元素组成的集合，记作$A \\setminus B$或$A-B$，也可以读作“$B$在$A$中的相对补集”。"
   ]
  },
  {
   "cell_type": "markdown",
   "metadata": {},
   "source": [
    "### 文氏图\n",
    "集合之间的关系也可以用**文氏图**(Venn diagram)表达。"
   ]
  },
  {
   "cell_type": "markdown",
   "metadata": {},
   "source": [
    "### 掷骰子\n",
    "\n",
    "例如，掷一枚色子，点数结果构成的集合$\\Omega$为：\n",
    "$$\n",
    "\\Omega= \\{1,2,3,4,5,6 \\}\n",
    "$$\n",
    "定义集合$A$为色子点数为奇数：\n",
    "$$\n",
    "A=\\{1,3,5\\}\n",
    "$$\n",
    "集合$B$为色子点数为偶数：\n",
    "$$\n",
    "B=\\{2,4,6\\}\n",
    "$$\n",
    "集合$C$为色子点数小于4：\n",
    "$$\n",
    "C=\\{1,2,3\\}\n",
    "$$\n",
    "显然，$A$和$B$的交集为空，即：\n",
    "$$\n",
    "A \\cap B = \\emptyset\n",
    "$$\n",
    "$A$和$B$的并集为全集$\\Omega$，即：\n",
    "$$\n",
    "A \\cup B=\\Omega=\\{1,2,3,4,5,6\\}\n",
    "$$\n",
    "也就是说，$A$在$\\Omega$中的绝对补集是$B$。  \n",
    "$A$和$C$的交集有两个元素，即：\n",
    "$$\n",
    "A \\cap C=\\{1,3\\}\n",
    "$$\n",
    "$A$和$C$的并集有四个元素，即：\n",
    "$$\n",
    "A \\cup C=\\{1,2,3,5\\}\n",
    "$$\n",
    "$A$和$C$的相对补集为：\n",
    "$$\n",
    "A-C=\\{5\\}\n",
    "$$\n",
    "$C$中$A$的相对补集为：\n",
    "$$\n",
    "C-A=\\{2\\}\n",
    "$$"
   ]
  },
  {
   "cell_type": "code",
   "execution_count": 4,
   "metadata": {
    "tags": []
   },
   "outputs": [
    {
     "name": "stdout",
     "output_type": "stream",
     "text": [
      "A union B\n",
      "预想：{1, 2, 3, 4, 5, 6}\n",
      "实际：{1, 2, 3, 4, 5, 6}\n",
      "A intersects(meets) B\n",
      "预想：set()\n",
      "实际：set()\n",
      "A minus B\n",
      "预想：{1, 3, 5}\n",
      "实际：{1, 3, 5}\n",
      "A union C\n",
      "预想：{1, 2, 3, 5}\n",
      "实际：{1, 2, 3, 5}\n",
      "A intersects(meets) C\n",
      "预想：{1, 3}\n",
      "实际：{1, 3}\n",
      "A minus C\n",
      "预想：{5}\n",
      "实际：{5}\n",
      "C minus A\n",
      "预想：{2}\n",
      "实际：{2}\n"
     ]
    }
   ],
   "source": [
    "# Bk3_Ch4_01\n",
    "\n",
    "# set A: odd\n",
    "A=set([1,3,5])\n",
    "\n",
    "# set B: even\n",
    "B=set([2,4,6])\n",
    "\n",
    "# set C: less than 4\n",
    "C=set([1,2,3])\n",
    "\n",
    "# A union B\n",
    "A_union_B=A.union(B) # A|B, A or B也可以\n",
    "A_union_B_estimate = set([1,2,3,4,5,6])\n",
    "print('A union B')\n",
    "print(f'预想：{A_union_B_estimate}')\n",
    "print(f'实际：{A_union_B}')\n",
    "\n",
    "# A intersects(meets) B\n",
    "A_meet_B=A.intersection(B) # A&B, A and B也可以\n",
    "A_meet_B_estimate = set([])\n",
    "print('A intersects(meets) B')\n",
    "print(f'预想：{A_meet_B_estimate}')\n",
    "print(f'实际：{A_meet_B}')\n",
    "\n",
    "# A minus B\n",
    "A_minus_B = A.difference(B) # A-B, set difference\n",
    "A_minus_B_estimate = set([1,3,5])\n",
    "print('A minus B')\n",
    "print(f'预想：{A_minus_B_estimate}')\n",
    "print(f'实际：{A_minus_B}')\n",
    "\n",
    "# A union C\n",
    "A_union_C = A.union(C) # A|C, A or C\n",
    "A_union_C_estimate = set([1,2,3,5])\n",
    "print('A union C')\n",
    "print(f'预想：{A_union_C_estimate}')\n",
    "print(f'实际：{A_union_C}')\n",
    "\n",
    "# A intersects(meets) C\n",
    "A_meet_C = A.intersection(C) # A&C, A and C\n",
    "A_meet_C_estimate = set([1,3])\n",
    "print('A intersects(meets) C')\n",
    "print(f'预想：{A_meet_C_estimate}')\n",
    "print(f'实际：{A_meet_C}')\n",
    "\n",
    "# A minus C\n",
    "A_minus_C = A.difference(C) # A-C, set difference\n",
    "A_minus_C_estimate = set([5])\n",
    "print('A minus C')\n",
    "print(f'预想：{A_minus_C_estimate}')\n",
    "print(f'实际：{A_minus_C}')\n",
    "\n",
    "# C minus A\n",
    "C_minus_A = C.difference(A) # C-A, set difference\n",
    "C_minus_A_estimate = set([2])\n",
    "print('C minus A')\n",
    "print(f'预想：{C_minus_A_estimate}')\n",
    "print(f'实际：{C_minus_A}')\n"
   ]
  },
  {
   "cell_type": "markdown",
   "metadata": {},
   "source": [
    "## 从代数式到函数\n",
    "\n",
    "**算数**(arithmetic)基于**已知量**(known values)。而**代数**(algebra)基于**未知量**(unknown values)，也称作**变量**(variables)。"
   ]
  },
  {
   "cell_type": "markdown",
   "metadata": {},
   "source": [
    "### 多项式\n",
    "最常见的代数式是**多项式**(polynomial)，形如：  \n",
    "$$\n",
    "a_nx^n+a_{n-1}x^{n-1}+\\cdots+a_1x+a_0\n",
    "$$\n",
    "其中$x$为**变量**(variable)，$n$为**多项式次数**(degree of polynomial)，$a_0、a_1\\cdots a_n$为**系数**(coefficient)。  \n",
    "\n",
    "由数和字母的积组成的代数式叫**单项式**(monomial)，比如$a_nx^n$。单独的一个数或一个系数也叫作单项式，比如$5$和$a_0$。"
   ]
  },
  {
   "cell_type": "markdown",
   "metadata": {},
   "source": [
    "### 代入具体值"
   ]
  },
  {
   "cell_type": "code",
   "execution_count": 18,
   "metadata": {
    "tags": []
   },
   "outputs": [
    {
     "name": "stdout",
     "output_type": "stream",
     "text": [
      "x = 1, x**3 + 2*x**2 - x - 2 = 0\n",
      "-y + (y + 2)**3 + 2*(y + 2)**2 - 4\n",
      "cos(y)**3 + 2*cos(y)**2 - cos(y) - 2\n",
      "x + y\n",
      "x1 + x2\n"
     ]
    }
   ],
   "source": [
    "# Bk3_Ch4_02_A\n",
    "\n",
    "from sympy.abc import x, y\n",
    "\n",
    "expr_x = x**3 + 2*x**2 - x - 2\n",
    "\n",
    "# 用subs()将变量替换成具体的数字是，将会打印出表达式的值\n",
    "print(f'x = {1}, {expr_x} = {expr_x.subs(x, 1)}')\n",
    "\n",
    "# Bk3_Ch4_02_A1\n",
    "\n",
    "# 用subs()将变量替换成其他符号变量，或表达式时，打印出替换后的表达式，并进行简单地化简\n",
    "expr_plus_y = expr_x.subs(x, (2+y))\n",
    "\n",
    "print(expr_plus_y)\n",
    "\n",
    "# Bk3_Ch4_02_B\n",
    "\n",
    "from sympy import cos\n",
    "\n",
    "expr_cos_y = expr_x.subs(x,cos(y))\n",
    "\n",
    "print(expr_cos_y)\n",
    "\n",
    "#Bk3_Ch4_02_C\n",
    "\n",
    "from sympy import symbols\n",
    "\n",
    "x,y = symbols('x,y')\n",
    "\n",
    "expr_1 = x + y\n",
    "print(expr_1)\n",
    "\n",
    "x1,x2 = symbols('x1,x2')\n",
    "expr_2 = x1 + x2\n",
    "print(expr_2)"
   ]
  },
  {
   "cell_type": "code",
   "execution_count": 26,
   "metadata": {
    "tags": []
   },
   "outputs": [
    {
     "name": "stdout",
     "output_type": "stream",
     "text": [
      "-cos(2*x)\n",
      "x**3 + 3*x**2 + 3*x + 1\n",
      "(x - 1)*(x + 1)*(x + 2)\n",
      "x**3 + x**2 - 3*x - 2\n"
     ]
    }
   ],
   "source": [
    "# Bk3_Ch4_03\n",
    "from sympy import *\n",
    "x,y,z = symbols('x y z')\n",
    "\n",
    "# simplify mathematical expressions\n",
    "# smplify()函数可以自动简化表达式\n",
    "expr_1 = sin(x)**2 - cos(x)**2\n",
    "print(simplify(expr_1))\n",
    "\n",
    "# expand polynomial expressions\n",
    "# expand()函数可以把多项式展开\n",
    "expr_2 = (x + 1)**3\n",
    "print(expand(expr_2))\n",
    "\n",
    "# take a polynomial and factors it into irreducible factors\n",
    "# factor()函数可以对代数式进行因式分解\n",
    "expr_3 = x**3 + 2*x**2 - x - 2\n",
    "print(factor(expr_3))\n",
    "\n",
    "# collect common powers of a term in an expression\n",
    "# collected()函数可以对多项式进行合并同类项\n",
    "expr_collected = collect(expr_3 - x**2 - 2*x, x)\n",
    "print(expr_collected)"
   ]
  },
  {
   "cell_type": "markdown",
   "metadata": {},
   "source": [
    "### 函数\n",
    "**函数**(function)一词由**莱布尼茨**引入。而$f(x)$这个函数记号由**欧拉**发明。  \n",
    "\n",
    "给定一个集合$X$，对$X$中元素$x$施加映射法则$f$，记作函数$f(x)$。得到的结果$y=f(x)$属于集合$Y$。  \n",
    "集合$X$称作**定义域**(domain)，$Y$称为**值域**(codomain)。  \n",
    "$x$称作**自变量**，$y$称作**因变量**。  \n",
    "\n",
    "函数的自变量为两个或两个以上时，焦作多远函数(multivariate function)。"
   ]
  },
  {
   "cell_type": "code",
   "execution_count": 1,
   "metadata": {
    "tags": []
   },
   "outputs": [
    {
     "name": "stdout",
     "output_type": "stream",
     "text": [
      "0\n"
     ]
    }
   ],
   "source": [
    "# Bk3_Ch4_04\n",
    "\n",
    "from sympy.abc import x, y, z\n",
    "expr = x**3 + 2*x**2 - x -2\n",
    "\n",
    "from sympy.utilities.lambdify import lambdify\n",
    "# 通过lambdify，把一个表达式转换成一个函数\n",
    "# 函数的参数是x，函数名是f_x\n",
    "f_x=lambdify(x, expr)\n",
    "\n",
    "print(f_x(1))"
   ]
  },
  {
   "cell_type": "markdown",
   "metadata": {},
   "source": [
    "## 杨辉三角：代数和几何的完美合体\n",
    "\n",
    "杨辉三角，也叫贾宪三角，又称帕斯卡三角。"
   ]
  },
  {
   "cell_type": "markdown",
   "metadata": {},
   "source": [
    "### 二项式系数\n",
    "如下，$(x+1)^n$，按单项$x$的次数从高到低排列，单项式系数呈现出特定规律：\n",
    "$$\n",
    "\\begin{aligned}\n",
    "(x+1)^0 = &1\\\\\n",
    "(x+1)^1 = x & +1\\\\\n",
    "(x+1)^2 = x^2 + & 2x +1\\\\\n",
    "(x+1)^3 =x ^3 + 3x^2 & + 3x +1\\\\\n",
    "(x+1)^4 = x^4+ 4x^3 + & 6x^2 + 4x +1\\\\\n",
    "(x+1)^5 = x^5 + 5x^4+ 10x^3 & + 10x^2 + 5x +1\\\\\n",
    "(x+1)^6 = x^6 + 6x^5 + 15x^4+ & 20x^3 + 15x^2 + 6x +1\\\\\n",
    "\\cdots \\qquad \\qquad \\qquad \\qquad  \\qquad &\\cdots\\\\\n",
    "\\end{aligned}\n",
    "$$\n",
    "\n",
    "* 三角形系数呈现对称性，第$k$行有$k+1$个系数；\n",
    "* 三角形每一行左右最外侧系数为1；\n",
    "* 除最外两侧系数以外，三角形内部任意系数为左上方和右上方两个系数之和；\n",
    "* 第$k$行系数之和为$2^k$。"
   ]
  },
  {
   "cell_type": "markdown",
   "metadata": {},
   "source": [
    "### 从杨辉三角到概率"
   ]
  },
  {
   "cell_type": "markdown",
   "metadata": {},
   "source": [
    "### 火柴梗图\n",
    "\n",
    "用**火柴梗图**(stem plot)可视化杨辉三角每行单项式系数的规律，随着$n$增大，火柴梗的实心点连城一条曲线，这条曲线就是**高斯函数**(Gaussian function)。"
   ]
  },
  {
   "cell_type": "code",
   "execution_count": 1,
   "metadata": {
    "tags": []
   },
   "outputs": [
    {
     "name": "stdout",
     "output_type": "stream",
     "text": [
      "[1, 4, 6, 4, 1]\n"
     ]
    },
    {
     "data": {
      "image/png": "[encoded data removed]",
      "text/plain": [
       "<Figure size 640x480 with 1 Axes>"
      ]
     },
     "metadata": {},
     "output_type": "display_data"
    },
    {
     "name": "stdout",
     "output_type": "stream",
     "text": [
      "[1, 8, 28, 56, 70, 56, 28, 8, 1]\n"
     ]
    },
    {
     "data": {
      "image/png": "[encoded data removed]",
      "text/plain": [
       "<Figure size 640x480 with 1 Axes>"
      ]
     },
     "metadata": {},
     "output_type": "display_data"
    },
    {
     "name": "stdout",
     "output_type": "stream",
     "text": [
      "[1, 12, 66, 220, 495, 792, 924, 792, 495, 220, 66, 12, 1]\n"
     ]
    },
    {
     "data": {
      "image/png": "[encoded data removed]",
      "text/plain": [
       "<Figure size 640x480 with 1 Axes>"
      ]
     },
     "metadata": {},
     "output_type": "display_data"
    },
    {
     "name": "stdout",
     "output_type": "stream",
     "text": [
      "[1, 5, 10, 10, 5, 1]\n"
     ]
    },
    {
     "data": {
      "image/png": "[encoded data removed]",
      "text/plain": [
       "<Figure size 640x480 with 1 Axes>"
      ]
     },
     "metadata": {},
     "output_type": "display_data"
    },
    {
     "name": "stdout",
     "output_type": "stream",
     "text": [
      "[1, 9, 36, 84, 126, 126, 84, 36, 9, 1]\n"
     ]
    },
    {
     "data": {
      "image/png": "[encoded data removed]",
      "text/plain": [
       "<Figure size 640x480 with 1 Axes>"
      ]
     },
     "metadata": {},
     "output_type": "display_data"
    },
    {
     "name": "stdout",
     "output_type": "stream",
     "text": [
      "[1, 13, 78, 286, 715, 1287, 1716, 1716, 1287, 715, 286, 78, 13, 1]\n"
     ]
    },
    {
     "data": {
      "image/png": "[encoded data removed]",
      "text/plain": [
       "<Figure size 640x480 with 1 Axes>"
      ]
     },
     "metadata": {},
     "output_type": "display_data"
    },
    {
     "name": "stdout",
     "output_type": "stream",
     "text": [
      "[1, 36, 630, 7140, 58905, 376992, 1947792, 8347680, 30260340, 94143280, 254186856, 600805296, 1251677700, 2310789600, 3796297200, 5567902560, 7307872110, 8597496600, 9075135300, 8597496600, 7307872110, 5567902560, 3796297200, 2310789600, 1251677700, 600805296, 254186856, 94143280, 30260340, 8347680, 1947792, 376992, 58905, 7140, 630, 36, 1]\n"
     ]
    },
    {
     "data": {
      "image/png": "[encoded data removed]",
      "text/plain": [
       "<Figure size 640x480 with 1 Axes>"
      ]
     },
     "metadata": {},
     "output_type": "display_data"
    }
   ],
   "source": [
    "# Bk3_Ch4_05\n",
    "\n",
    "from sympy.abc import x, a\n",
    "from sympy import Poly\n",
    "import matplotlib.pyplot as plt\n",
    "import numpy as np\n",
    "\n",
    "for n in [4,8,12,5,9,13,36]:\n",
    "    expr = (x+1)**n\n",
    "\n",
    "    # expand()进行多项式展开\n",
    "    expr_expand = expr.expand()\n",
    "    # 初始化Poly类，形成多项式对象\n",
    "    expr_expand = Poly(expr_expand)\n",
    "    # 利用Poly.coeffs()函数，提取多项式系数生成系数数组\n",
    "    poly_coeffs = expr_expand.coeffs()\n",
    "    print(poly_coeffs)\n",
    "\n",
    "    # 生成从n到0的线性等分向量，总共有n+1个元素\n",
    "    degrees=np.linspace(n,0,n+1)\n",
    "    \n",
    "    fig, ax = plt.subplots()\n",
    "\n",
    "    # 生成火柴梗图\n",
    "    plt.stem(degrees, np.array(poly_coeffs, dtype=float))\n",
    "    plt.xlim=(0,n)\n",
    "    plt.xticks(np.arange(0,n+1))\n",
    "    y_max=max(poly_coeffs)\n",
    "    y_max=float(y_max)\n",
    "    plt.ylim(0,y_max)\n",
    "\n",
    "    ax.spines['right'].set_visible(False)\n",
    "    ax.spines['top'].set_visible(False)\n",
    "\n",
    "    ax.invert_xaxis()\n",
    "\n",
    "    plt.xlabel('Degrees')\n",
    "    plt.ylabel('Coefficient')\n",
    "    plt.show()"
   ]
  },
  {
   "cell_type": "markdown",
   "metadata": {},
   "source": [
    "## 排列组合让二项式系数更具意义"
   ]
  },
  {
   "cell_type": "markdown",
   "metadata": {},
   "source": [
    "### 组合数\n",
    "从$n$个不同元素中，取$m(m \\leq n)$个元素构成一组，被称作$n$个不同元素中取出$m$个元素的一个**组合**(combination)。  \n",
    "$n$个不同元素中取出$m$个元素的所有组合个数叫做组合数，常记作$C^{m}_{n}$：\n",
    "$$\n",
    "C_{n}^{m}=C(n,m)={{n!} \\over {(n-m)!m!}}\n",
    "$$"
   ]
  },
  {
   "cell_type": "code",
   "execution_count": 2,
   "metadata": {
    "tags": []
   },
   "outputs": [
    {
     "name": "stdout",
     "output_type": "stream",
     "text": [
      "('A', 'B')\n",
      "('A', 'C')\n",
      "('B', 'C')\n"
     ]
    }
   ],
   "source": [
    "# Bk3_Ch4_06\n",
    "import itertools\n",
    "\n",
    "letters='ABC  '\n",
    "\n",
    "# find all combinations containing 2 letters\n",
    "\n",
    "cmb = itertools.combinations(letters, 2)\n",
    "for val in cmb:\n",
    "    print(val)"
   ]
  },
  {
   "cell_type": "markdown",
   "metadata": {},
   "source": [
    "### 组合数表达杨辉三角\n",
    "\n",
    "用组合数将$(x+y)^n$展开写成：\n",
    "$$\n",
    "(x+y)^n=C_{n}^0x^ny^0+C_{n}^1x^{n-1}y^1+C_{n}^2x^{n-2}y^2+\\cdots+C_n^{n-2}x^2y^{n-2}+C_n^{n-1}x^{1}y^{n-1}+C_n^nx^0y^n\n",
    "$$\n",
    "\n",
    "组合数方便结石上式中各项系数。其中，每一项$x$和$y$的次数之和为$n$，如果某一单项$y$的次数为$k$，$x$的次数为$n-k$，这一项为$C_n^kx^{n-k}y^k$。该项系数$C_n^k$相当于在$n$个$x$或$y$连乘中，选取$k$个$y$。  \n",
    "\n",
    "将$x=y=1$带入上式，可以发现组合数的一个重要规律：\n",
    "$$\n",
    "2^n=C_n^0+C_n^1+C_n^2+\\cdots+C_n^{n-2}+C_n^{n-1}+C_n^n\n",
    "$$\n",
    "\n",
    "从对称性来看，容易发现另外一个组合数规律：\n",
    "$$\n",
    "C_n^k=C_n^{n-k}\n",
    "$$"
   ]
  },
  {
   "cell_type": "markdown",
   "metadata": {},
   "source": [
    "### 排列数\n",
    "从$n$个不同元素中，先后取$m(m \\leq n)$个元素排成一列，叫做从$n$个元素中取出$m$个元素的一个**排列**(permutation)。排列中，元素的顺序很重要。  \n",
    "$n$个不同元素中取出m个元素的所有排列的个数叫做排列数，常记作$P_n^m$：\n",
    "$$\n",
    "P_n^m=P(n,m)={n! \\over (n-m)!}\n",
    "$$"
   ]
  },
  {
   "cell_type": "code",
   "execution_count": 3,
   "metadata": {
    "tags": []
   },
   "outputs": [
    {
     "name": "stdout",
     "output_type": "stream",
     "text": [
      "('A', 'B')\n",
      "('A', 'C')\n",
      "('B', 'A')\n",
      "('B', 'C')\n",
      "('C', 'A')\n",
      "('C', 'B')\n"
     ]
    }
   ],
   "source": [
    "# Bk3_Ch4_07\n",
    "\n",
    "import itertools\n",
    "\n",
    "letters='ABC'\n",
    "\n",
    "# Arranging 2 elements out of 3\n",
    "\n",
    "per = itertools.permutations(letters, 2)\n",
    "\n",
    "for val in per:\n",
    "    print(val)"
   ]
  },
  {
   "cell_type": "markdown",
   "metadata": {},
   "source": [
    "### 组合数和排列数\n",
    "比较公式，发现排列和组合的关系为：\n",
    "$$\n",
    "P_n^m=C_n^m \\cdot m!\n",
    "$$\n",
    "可以理解为，先从$n$个元素取出$m$进行组合，组合数为C_n^m。然后，把$m$个元素全部排列一遍（也叫全排列），排列数为$m!$。这样$C_n^m$和$m!$乘积便是$n$个元素取出$m$的排列数。"
   ]
  },
  {
   "cell_type": "code",
   "execution_count": 6,
   "metadata": {
    "tags": []
   },
   "outputs": [
    {
     "name": "stdout",
     "output_type": "stream",
     "text": [
      "('A', 'B', 'C')\n",
      "('A', 'C', 'B')\n",
      "('B', 'A', 'C')\n",
      "('B', 'C', 'A')\n",
      "('C', 'A', 'B')\n",
      "('C', 'B', 'A')\n"
     ]
    }
   ],
   "source": [
    "# Bk3_Ch4_08\n",
    "\n",
    "import itertools\n",
    "\n",
    "letters = 'ABC'\n",
    "\n",
    "# Arranging all 3 elements\n",
    "\n",
    "per = itertools.permutations(letters)\n",
    "for val in per:\n",
    "    print(val)"
   ]
  }
 ],
 "metadata": {
  "kernelspec": {
   "display_name": "Python 3 (ipykernel)",
   "language": "python",
   "name": "python3"
  },
  "language_info": {
   "codemirror_mode": {
    "name": "ipython",
    "version": 3
   },
   "file_extension": ".py",
   "mimetype": "text/x-python",
   "name": "python",
   "nbconvert_exporter": "python",
   "pygments_lexer": "ipython3",
   "version": "3.10.6"
  }
 },
 "nbformat": 4,
 "nbformat_minor": 4
}
