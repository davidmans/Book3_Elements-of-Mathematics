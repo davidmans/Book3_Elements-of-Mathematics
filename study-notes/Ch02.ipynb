{
 "cells": [
  {
   "cell_type": "markdown",
   "metadata": {},
   "source": [
    "# Chapter 2 乘除 | 《数学要素》 | 从加减乘除到机器学习"
   ]
  },
  {
   "cell_type": "markdown",
   "metadata": {},
   "source": [
    "## 算数乘除"
   ]
  },
  {
   "cell_type": "markdown",
   "metadata": {},
   "source": [
    "### 乘法\n",
    "\n",
    "乘法符号 $\\times$ 用于表示数字相乘，一般不用在两个变量相乘。  \n",
    "线性代数中 $\\times$ 表示叉乘。\n",
    "圆点 $\\cdot$ 不用于数字相乘。  \n",
    "线性代数中，$a \\cdot b$表示$a$和$b$的两个向量的标量积。\n",
    "\n",
    "**乘法计算时，要注意单位问题**"
   ]
  },
  {
   "cell_type": "code",
   "execution_count": 1,
   "metadata": {},
   "outputs": [
    {
     "name": "stdout",
     "output_type": "stream",
     "text": [
      "The product of 2 and 3 is 6.\n"
     ]
    }
   ],
   "source": [
    "# Bk3_Ch02_01\n",
    "num1 = 2\n",
    "num2 = 3\n",
    "\n",
    "# multi two numbers\n",
    "prod = num1 * num2\n",
    "\n",
    "# display the computation\n",
    "print(f'The product of {num1} and {num2} is {prod}.')"
   ]
  },
  {
   "cell_type": "markdown",
   "metadata": {},
   "source": [
    "### 阶乘\n",
    "\n",
    "python中可以用  \n",
    "math.factorial()  \n",
    "scipy.sepcial.factorial()  \n",
    "numpy.math.factorial()  \n",
    "来计算阶乘"
   ]
  },
  {
   "cell_type": "code",
   "execution_count": 9,
   "metadata": {},
   "outputs": [
    {
     "name": "stdout",
     "output_type": "stream",
     "text": [
      "The factorial of 25 is 15511210043330985984000000\n",
      "By numpy, the factorial of 25 is 15511210043330985984000000\n"
     ]
    }
   ],
   "source": [
    "# Bk3_Ch2_02\n",
    "# define a function to calculate factorial\n",
    "import numpy as np\n",
    "num = int(input('Enter an integer: '))\n",
    "\n",
    "factorial = 1\n",
    "\n",
    "# check if the number is negative, positive or zero\n",
    "if num < 0:\n",
    "    print('Factorial does not exist for negative numbers.')\n",
    "elif num == 0:\n",
    "    print(f'The factorial of 0 is {factorial}')\n",
    "else:\n",
    "    for i in range(1, num+1):\n",
    "        factorial = factorial * i\n",
    "    print(f'The factorial of {num} is {factorial}') \n",
    "\n",
    "    print(\n",
    "        f'By numpy, the factorial of {num} is {np.math.factorial(num)}')\n"
   ]
  },
  {
   "cell_type": "markdown",
   "metadata": {},
   "source": [
    "### 累计乘积\n",
    "\n",
    "也叫累积乘积，与累积和一样，其结果是一个数列，不是一个数字。"
   ]
  },
  {
   "cell_type": "code",
   "execution_count": 12,
   "metadata": {},
   "outputs": [
    {
     "name": "stdout",
     "output_type": "stream",
     "text": [
      "[ 1.  2.  3.  4.  5.  6.  7.  8.  9. 10.]\n",
      "[      1.       2.       6.      24.     120.     720.    5040.   40320.\n",
      "  362880. 3628800.]\n"
     ]
    }
   ],
   "source": [
    "# Bk3_Ch02_03\n",
    "import numpy as np\n",
    "\n",
    "a_i = np.linspace(1, 10, 10)\n",
    "print(a_i)\n",
    "\n",
    "a_i_cumprod = np.cumprod(a_i)\n",
    "# np.set_printoptions(suppress=True)\n",
    "print(a_i_cumprod)"
   ]
  },
  {
   "cell_type": "markdown",
   "metadata": {},
   "source": [
    "### 除法"
   ]
  },
  {
   "cell_type": "code",
   "execution_count": 15,
   "metadata": {},
   "outputs": [
    {
     "name": "stdout",
     "output_type": "stream",
     "text": [
      "The division of 5 over 3 is 1.6666666666666667.\n"
     ]
    }
   ],
   "source": [
    "# Bk_Ch02_04\n",
    "num1 = 5\n",
    "num2 = 3\n",
    "\n",
    "#div two numbers\n",
    "division = num1 / num2\n",
    "\n",
    "# display the computation\n",
    "print(f'The division of {num1} over {num2} is {division}.')"
   ]
  },
  {
   "cell_type": "code",
   "execution_count": 16,
   "metadata": {},
   "outputs": [
    {
     "name": "stdout",
     "output_type": "stream",
     "text": [
      "The remainder of 7 over 2 is 1.\n"
     ]
    }
   ],
   "source": [
    "# Bk_Ch03_05\n",
    "num1 = 7\n",
    "num2 = 2\n",
    "\n",
    "# remainder two numbers\n",
    "remainder = num1 % num2\n",
    "\n",
    "# diaplay the computation\n",
    "print(f'The remainder of {num1} over {num2} is {remainder}.')\n"
   ]
  },
  {
   "cell_type": "markdown",
   "metadata": {},
   "source": [
    "### 分数"
   ]
  },
  {
   "cell_type": "markdown",
   "metadata": {},
   "source": [
    "## 向量乘法"
   ]
  },
  {
   "cell_type": "markdown",
   "metadata": {},
   "source": [
    "### 标量乘法\n",
    "\n",
    "标量乘向量，结果还是向量。相当于缩放。  \n",
    "标量$k$乘向量$a$，$a$的每一个元素均与$k$相乘。  \n",
    "同理，标量$k$乘矩阵$A$，$A$的每一个元素均与$k$相乘。  \n",
    "例1，标量乘以行向量：\n",
    "$$\n",
    "2\\times[1 \\quad 2 \\quad 3]=[2\\times1 \\quad 2\\times2 \\quad 2\\times 3]=[2 \\quad 4 \\quad 6]\n",
    "$$\n",
    "\n",
    "例2，标量乘以列向量：\n",
    "$$\n",
    "2\\times\n",
    "\\begin{bmatrix}\n",
    "1\\\\\n",
    "2\\\\\n",
    "3\n",
    "\\end{bmatrix}=\n",
    "\\begin{bmatrix}\n",
    "2\\times1\\\\\n",
    "2\\times2\\\\\n",
    "2\\times3\n",
    "\\end{bmatrix}=\n",
    "\\begin{bmatrix}\n",
    "2\\\\\n",
    "4\\\\\n",
    "6\n",
    "\\end{bmatrix}\n",
    "$$\n",
    "\n",
    "例3，标量乘以矩阵\n",
    "$$\n",
    "2\\times\n",
    "\\begin{bmatrix}\n",
    "1&2&3\\\\\n",
    "4&5&6\n",
    "\\end{bmatrix}_{2\\times3}=\n",
    "\\begin{bmatrix}\n",
    "2\\times1&2\\times2&2\\times3\\\\\n",
    "2\\times4&2\\times5&2\\times6\n",
    "\\end{bmatrix}_{2\\times3}=\n",
    "\\begin{bmatrix}\n",
    "2&4&6\\\\\n",
    "8&10&12\n",
    "\\end{bmatrix}_{2\\times3}\n",
    "$$"
   ]
  },
  {
   "cell_type": "code",
   "execution_count": 17,
   "metadata": {},
   "outputs": [
    {
     "name": "stdout",
     "output_type": "stream",
     "text": [
      "[[2 4 6]]\n",
      "[[2]\n",
      " [4]\n",
      " [6]]\n",
      "[[ 2  4  6]\n",
      " [ 8 10 12]]\n"
     ]
    }
   ],
   "source": [
    "#Bk3_Ch02_06\n",
    "import numpy as np\n",
    "\n",
    "# define a row vector\n",
    "a_row = np.array([[1, 2, 3]])\n",
    "b_row = 2 * a_row\n",
    "print(b_row)\n",
    "\n",
    "# define a column vector\n",
    "a_col = np.array([[1], [2], [3]])\n",
    "b_col = 2 * a_col \n",
    "print(b_col)\n",
    "\n",
    "# define a matrix\n",
    "A=np.array([[1,2,3],\n",
    "            [4,5,6]])\n",
    "B=2*A\n",
    "print(B)\n"
   ]
  },
  {
   "cell_type": "markdown",
   "metadata": {},
   "source": [
    "### 向量内积\n",
    "\n",
    "**向量内积**又叫**标量积**或**点积**，结果为标量。\n",
    "两个**形状相同**的向量，**对应位置**元素一一相乘，再求和。\n",
    "\n",
    "例1，2个行向量相乘  \n",
    "$$\n",
    "[1\\quad2\\quad3]\\cdot[4\\quad5\\quad6]=1\\times4+2\\times5+3\\times6=4+10+18=32\n",
    "$$\n",
    "\n",
    "例2,2个列向量相乘\n",
    "$$\n",
    "\\begin{bmatrix}\n",
    "1\\\\\n",
    "2\\\\\n",
    "3\n",
    "\\end{bmatrix}\\cdot\n",
    "\\begin{bmatrix}\n",
    "-1\\\\\n",
    "0\\\\\n",
    "1\n",
    "\\end{bmatrix}= \n",
    "1\\times(-1)+2\\times0+3\\times1=2\n",
    "$$\n",
    "\n",
    "向量内积满足**交换律**\n",
    "$$\n",
    "a \\cdot b=b \\cdot a\n",
    "$$\n",
    "向量内积**对向量加法满足分配律**\n",
    "$$\n",
    "a \\cdot (b+c)=a \\cdot b+a \\cdot c\n",
    "$$\n",
    "向量内积不满足**结合律**\n",
    "$$\n",
    "(a \\cdot b) \\cdot c \\not= a \\cdot (b \\cdot c)\n",
    "$$\n",
    "\n",
    "注意，用numpy.inner()求两个列向量的向量内积是，得到的结果是张量积(tensor product)。  \n",
    "**张量积是机器学习和深度学习中非常重要的向量计算。**\n"
   ]
  },
  {
   "cell_type": "code",
   "execution_count": 29,
   "metadata": {},
   "outputs": [
    {
     "name": "stdout",
     "output_type": "stream",
     "text": [
      "[[32]]\n",
      "32\n",
      "[[-1  0  1]\n",
      " [-2  0  2]\n",
      " [-3  0  3]]\n",
      "2\n"
     ]
    }
   ],
   "source": [
    "# Bk_Ch2_07\n",
    "import numpy as np\n",
    "\n",
    "# row vector dot product\n",
    "a_row = np.array([[1, 2, 3]])\n",
    "b_row = np.array([[4, 5, 6]])\n",
    "# a_row = np.array([[1, 2, 3, 4, 5]])\n",
    "# b_row = np.array([[1, 1, 1, 1, 1]])\n",
    "\n",
    "a_dot_b = np.inner(a_row, b_row)\n",
    "print(a_dot_b)\n",
    "\n",
    "print(np.sum(a_row*b_row))\n",
    "\n",
    "# column vector dot product\n",
    "a_col = np.array([[1], [2], [3]])\n",
    "b_col = np.array([[-1], [0], [1]])\n",
    "# a_col = np.array([[1, 2, 3, 4, 5]])\n",
    "# b_col = np.array([[1, 1/5, 1/5, 1/5, 1/5]])\n",
    "a_dot_b = np.inner(a_col, b_col)\n",
    "print(a_dot_b) # tensor product\n",
    "\n",
    "print(np.sum(a_col * b_col))"
   ]
  },
  {
   "cell_type": "markdown",
   "metadata": {},
   "source": [
    "### 逐项积\n",
    "\n",
    "两个形状相同的向量的逐项积为对应位置元素分别相乘，结果为相同形状的向量。  \n",
    "逐项积相当于算术的批量运算。  \n",
    "例1，行向量的逐项积：\n",
    "$$\n",
    "[1\\quad2\\quad3]\\odot[4\\quad5\\quad6]=[1\\times4\\quad2\\times5\\quad3\\times6]=[4\\quad10\\quad18]\n",
    "$$\n",
    "例2，矩阵的逐项积：\n",
    "$$\n",
    "\\begin{bmatrix}\n",
    "1&2&3\\\\\n",
    "4&5&6\n",
    "\\end{bmatrix}_{2\\times3}\\odot\n",
    "\\begin{bmatrix}\n",
    "1&2&3\\\\\n",
    "-1&0&1\n",
    "\\end{bmatrix}_{2\\times3}=\n",
    "\\begin{bmatrix}\n",
    "1\\times1&2\\times2&3\\times3\\\\\n",
    "4\\times-1&5\\times0&6\\times1\n",
    "\\end{bmatrix}_{2\\times3}=\n",
    "\\begin{bmatrix}\n",
    "1&4&9\\\\\n",
    "-4&0&6\n",
    "\\end{bmatrix}_{2\\times3}\n",
    "$$"
   ]
  },
  {
   "cell_type": "code",
   "execution_count": 1,
   "metadata": {},
   "outputs": [
    {
     "name": "stdout",
     "output_type": "stream",
     "text": [
      "[[ 4 10 18]]\n",
      "[[ 1  4  9]\n",
      " [-4  0  6]]\n"
     ]
    }
   ],
   "source": [
    "# Bk_Ch2_08\n",
    "import numpy as np\n",
    "a = np.array([[1, 2, 3]])\n",
    "b = np.array([[4, 5, 6]])\n",
    "\n",
    "# caculate element-wise product of tow vector\n",
    "a_times_b = a*b\n",
    "\n",
    "A = np.array([[1, 2, 3],\n",
    "              [4, 5, 6]])\n",
    "B = np.array([[1, 2, 3],\n",
    "              [-1, 0, 1]])\n",
    "A_times_B = A*B\n",
    "\n",
    "print(a_times_b)\n",
    "print(A_times_B)"
   ]
  },
  {
   "cell_type": "markdown",
   "metadata": {},
   "source": [
    "## 矩阵乘法\n",
    "\n",
    "矩阵乘法是最重要的线性代数运算，没有之一！"
   ]
  },
  {
   "cell_type": "markdown",
   "metadata": {},
   "source": [
    "### 矩阵乘法规则\n",
    "$A$和$B$两个矩阵相乘的前提是，矩阵$A$的列数和矩阵$B$的行数相同。  \n",
    "$A$和$B$的乘积一般写作$AB$，$A$在左，$B$在右，不能随意改变顺序。\n",
    "$$\n",
    "C_{m\\times n} = A_{m \\times p}B_{p \\times n} = A_{m \\times p}@B_{p \\times n}\n",
    "$$\n",
    "注意，@是numpy中用到的矩阵相乘的运算符。  \n",
    "矩阵乘法不满足**交换律**\n",
    "$$\n",
    "A_{m \\times p}B_{p \\times n}\\not=B_{p \\times n}A_{m \\times p}\n",
    "$$\n"
   ]
  },
  {
   "cell_type": "markdown",
   "metadata": {},
   "source": [
    "### 两个$2\\times2$矩阵相乘\n",
    "如下，有矩阵$A$和$B$，$C=A@B$\n",
    "$$\n",
    "A=\n",
    "\\begin{bmatrix}\n",
    "1&2\\\\\n",
    "3&4\n",
    "\\end{bmatrix}\n",
    "B=\n",
    "\\begin{bmatrix}\n",
    "4&2\\\\\n",
    "3&1\n",
    "\\end{bmatrix}\n",
    "$$\n",
    "矩阵$A$的第1行元素和矩阵$B$的第1列对应元素分别相乘，再相加，结果为矩阵$C$的第一行、第一列元素$c_{1,1}$  \n",
    "矩阵$A$的第1行元素和矩阵$B$的第2列对应元素分别相乘，再相加，结果为矩阵$C$的第一行、第一列元素$c_{1,2}$  \n",
    "$\\cdots$   \n",
    "综上，$A$和$B$的乘积$C$的第$i$行第$j$列的元素$c_{i,j}$等于矩阵$A$的第$i$行的元素，与矩阵$B$的第$j$列对应元素的乘积再求和。\n",
    "$$\n",
    "C=A@B=\n",
    "\\begin{bmatrix}\n",
    "a_{1,1} \\times b_{1,1}+a_{1,2} \\times b_{2,1}&a_{1,1} \\times b_{1,2}+a_{1,2} \\times b_{2,2}\\\\\n",
    "a_{2,1} \\times b_{1,1}+a_{2,2} \\times b_{2,1}&a_{2,1} \\times b_{1,2}+a_{2,2} \\times b_{2,2}\n",
    "\\end{bmatrix}=\n",
    "\\begin{bmatrix}\n",
    "1\\times4+2\\times3&1\\times2+2\\times1\\\\\n",
    "3\\times4+4\\times3&3\\times2+4\\times1\n",
    "\\end{bmatrix}=\n",
    "\\begin{bmatrix}\n",
    "10&4\\\\\n",
    "24&10\n",
    "\\end{bmatrix}\n",
    "$$\n"
   ]
  },
  {
   "cell_type": "code",
   "execution_count": 35,
   "metadata": {},
   "outputs": [
    {
     "name": "stdout",
     "output_type": "stream",
     "text": [
      "[[[10  4]\n",
      "  [24 10]]]\n"
     ]
    }
   ],
   "source": [
    "# Bk3_Ch2_09\n",
    "import numpy as np\n",
    "\n",
    "A = np.array([[1, 2],\n",
    "              [3, 4]])\n",
    "B = np.array([[[4, 2],\n",
    "              [3, 1]]])\n",
    "\n",
    "# calculate martix A times matrix B\n",
    "A_times_B = A@B\n",
    "\n",
    "print(A_times_B)\n"
   ]
  },
  {
   "cell_type": "markdown",
   "metadata": {},
   "source": [
    "### 两个向量相乘\n",
    "向量$a$和$b$为**等长列向量**，$a$转置($a^{\\rm T}$)乘$b$为标量，等价于$a$和$b$的标量积\n",
    "$$\n",
    "a^{\\rm T}b=a \\cdot b\n",
    "$$\n",
    "列向量$a$乘$b$的转置（$b^{\\rm T}$），乘积结果$ab^{\\rm T}$为方阵，也就是行数和列数相同的矩阵。   \n",
    "\n",
    "练习\n",
    "$$\n",
    "a=\n",
    "\\begin{bmatrix}\n",
    "1\\\\\n",
    "2\n",
    "\\end{bmatrix}_{2 \\times 1},\n",
    "b=\n",
    "\\begin{bmatrix}\n",
    "4\\\\\n",
    "3\\\\\n",
    "2\n",
    "\\end{bmatrix}_{3 \\times 1},\n",
    "计算ab^{\\rm T}\n",
    "$$\n",
    "答：\n",
    "$$\n",
    "ab^{\\rm T}=\n",
    "\\begin{bmatrix}\n",
    "1\\\\\n",
    "2\n",
    "\\end{bmatrix}_{2 \\times 1}@\n",
    "\\begin{bmatrix}\n",
    "4&3&2\n",
    "\\end{bmatrix}_{1 \\times 3}=\n",
    "\\begin{bmatrix}\n",
    "1\\times4&1\\times3&1\\times2\\\\\n",
    "2\\times4&2\\times3&2\\times2\n",
    "\\end{bmatrix}_{2 \\times 3}=\n",
    "\\begin{bmatrix}\n",
    "4&3&2\\\\\n",
    "8&6&4\n",
    "\\end{bmatrix}_{2 \\times 3}\n",
    "$$"
   ]
  },
  {
   "cell_type": "code",
   "execution_count": 8,
   "metadata": {},
   "outputs": [
    {
     "name": "stdout",
     "output_type": "stream",
     "text": [
      "[[4 3 2]\n",
      " [8 6 4]]\n",
      "[[4]]\n"
     ]
    }
   ],
   "source": [
    "import numpy as np\n",
    "\n",
    "a = np.array([[1], [2]])\n",
    "b = np.array([[4], [3], [2]])\n",
    "print(a@np.transpose(b))\n",
    "\n",
    "c = np.array([[1, 2]])\n",
    "d = np.array([[2], [1]])\n",
    "print(c@d)"
   ]
  },
  {
   "cell_type": "markdown",
   "metadata": {},
   "source": [
    "## 矩阵乘法第一视角\n",
    "\n",
    "### 两个$2\\times2$矩阵相乘\n",
    "设：\n",
    "$$\n",
    "A=\n",
    "\\begin{bmatrix}\n",
    "a_{1,1}&a_{1,2}\\\\\n",
    "a_{2,1}&a_{2,2}\n",
    "\\end{bmatrix},\n",
    "B=\n",
    "\\begin{bmatrix}\n",
    "b_{1,1}&b_{1,2}\\\\\n",
    "b_{2,1}&b_{2,2}\n",
    "\\end{bmatrix}\n",
    "$$\n",
    "则有如下推导：\n",
    "$$\n",
    "\\begin{aligned}\n",
    "A@B &=\n",
    "\\begin{bmatrix}\n",
    "a_{1,1}&a_{1,2}\\\\\n",
    "a_{2,1}&a_{2,2}\n",
    "\\end{bmatrix}\n",
    "\\begin{bmatrix}\n",
    "b_{1,1}&b_{1,2}\\\\\n",
    "b_{2,1}&b_{2,2}\n",
    "\\end{bmatrix}\\\\\n",
    "& =\\begin{bmatrix}\n",
    "\\begin{bmatrix}\n",
    "a_{1,1}&{a_{1,2}}\n",
    "\\end{bmatrix}_{1\\times2}\\\\\n",
    "\\begin{bmatrix}\n",
    "a_{2,1}&{a_{2,2}}\n",
    "\\end{bmatrix}_{1\\times2}\n",
    "\\end{bmatrix}\n",
    "\\begin{bmatrix}\n",
    "\\begin{bmatrix}\n",
    "b_{1,1}\\\\\n",
    "b_{2,1}\n",
    "\\end{bmatrix}_{2\\times1}&\n",
    "\\begin{bmatrix}\n",
    "b_{1,2}\\\\\n",
    "b_{2,2}\n",
    "\\end{bmatrix}_{2\\times1}\n",
    "\\end{bmatrix} \\\\\n",
    "& =\\begin{bmatrix}\n",
    "\\pmb{\\mathit{a}}^{(1)}\\\\\n",
    "\\pmb{\\mathit{a}}^{(2)}\n",
    "\\end{bmatrix}_{2\\times1}\n",
    "\\begin{bmatrix}\n",
    "\\pmb{\\mathit{b}}_1 & \\pmb{\\mathit{b}}_2\n",
    "\\end{bmatrix}_{1\\times2}\\\\\n",
    "& =\\begin{bmatrix}\n",
    "\\pmb{\\mathit{a}}^{(1)}\\pmb{\\mathit{b}}_{1} & \\pmb{\\mathit{a}}^{(1)}\\pmb{\\mathit{b}}_{2}\\\\\n",
    "\\pmb{\\mathit{a}}^{(2)}\\pmb{\\mathit{b}}_{1} & \\pmb{\\mathit{a}}^{(2)}\\pmb{\\mathit{b}}_{2}\n",
    "\\end{bmatrix}\\\\\n",
    "& =\\begin{bmatrix}\n",
    "(\\pmb{\\it{a}}^{(1)})^{\\rm T} \\cdot \\pmb{\\mathit{b}}_{1} & (\\pmb{\\mathit{a}}^{(1)})^{\\rm T} \\cdot \\pmb{\\mathit{b}}_{2}\\\\\n",
    "(\\pmb{\\mathit{a}}^{(2)})^{\\rm T} \\cdot \\pmb{\\mathit{b}}_{1} & (\\pmb{\\mathit{a}}^{(2)})^{\\rm T} \\cdot \\pmb{\\mathit{b}}_{2}\n",
    "\\end{bmatrix}\n",
    "\\end{aligned}\n",
    "$$"
   ]
  },
  {
   "cell_type": "markdown",
   "metadata": {},
   "source": [
    "### 更一般情况\n",
    "\n",
    "矩阵乘积$AB$中，左侧矩阵$A$的形状为$m \\times p$，将矩阵$A$写出一组上下叠放的行向量$\\pmb{\\it{a}}^{(i)}$：\n",
    "$$\n",
    "A_{m \\times p}=\n",
    "\\begin{bmatrix}\n",
    "\\pmb{\\it{a}}^{(1)}\\\\\n",
    "\\pmb{\\it{a}}^{(2)}\\\\\n",
    "\\vdots \\\\\n",
    "\\pmb{\\it{a}}^{(m)}\n",
    "\\end{bmatrix}_{m \\times 1}\n",
    "$$\n",
    "其中，行向量$\\pmb{\\it{a}}^{(i)}$列数为$p$，即有$p$个元素。\n",
    "\n",
    "右侧矩阵$B$的形状为$p \\times n$列，将矩阵$B$写成左右排列的列向量：\n",
    "$$\n",
    "B_{p \\times n}=\n",
    "\\begin{bmatrix}\n",
    "\\pmb{\\it{b}}_1 & \\pmb{\\it{b}}_2 & \\cdots &\\pmb{\\it{b}}_n\n",
    "\\end{bmatrix}_{1 \\times n}\n",
    "$$\n",
    "其中，列向量$\\pmb{\\it{b}}_j$行数为$p$，也有$p$个元素。\n",
    "\n",
    "$A$和$B$相乘，可以展开写成\n",
    "$$\n",
    "\\begin{aligned}\n",
    "A_{m \\times p}@B_{p \\times n} & =\n",
    "\\begin{bmatrix}\n",
    "\\pmb{\\it{a}}^{(1)}\\\\\n",
    "\\pmb{\\it{a}}^{(2)}\\\\\n",
    "\\vdots \\\\\n",
    "\\pmb{\\it{a}}^{(m)}\n",
    "\\end{bmatrix}_{m \\times 1}\n",
    "\\begin{bmatrix}\n",
    "\\pmb{\\it{b}}_1 & \\pmb{\\it{b}}_2 & \\cdots &\\pmb{\\it{b}}_n\n",
    "\\end{bmatrix}_{1 \\times n}\\\\\n",
    "& = \\begin{bmatrix}\n",
    "\\pmb{\\it{a}}^{(1)}\\pmb{\\it{b}}_1 & \\pmb{\\it{a}}^{(1)}\\pmb{\\it{b}}_2 & \\cdots &\\pmb{\\it{a}}^{(1)}\\pmb{\\it{b}}_n\\\\\n",
    "\\pmb{\\it{a}}^{(2)}\\pmb{\\it{b}}_1 & \\pmb{\\it{a}}^{(2)}\\pmb{\\it{b}}_2 & \\cdots &\\pmb{\\it{a}}^{(2)}\\pmb{\\it{b}}_n\\\\\n",
    "\\vdots & \\vdots & \\ddots & \\vdots \\\\\n",
    "\\pmb{\\it{a}}^{(m)}\\pmb{\\it{b}}_1 & \\pmb{\\it{a}}^{(m)}\\pmb{\\it{b}}_2 & \\cdots &\\pmb{\\it{a}}^{(m)}\\pmb{\\it{b}}_n\n",
    "\\end{bmatrix}\\\\\n",
    "& = \\begin{bmatrix}\n",
    "(\\pmb{\\it{a}}^{(1)})^{\\rm T} \\cdot \\pmb{\\it{b}}_1 & (\\pmb{\\it{a}}^{(1)})^{\\rm T} \\cdot \\pmb{\\it{b}}_2 & \\cdots &(\\pmb{\\it{a}}^{(1)})^{\\rm T} \\cdot \\pmb{\\it{b}}_n\\\\\n",
    "(\\pmb{\\it{a}}^{(2)})^{\\rm T} \\cdot \\pmb{\\it{b}}_1 & (\\pmb{\\it{a}}^{(2)})^{\\rm T} \\cdot \\pmb{\\it{b}}_2 & \\cdots &(\\pmb{\\it{a}}^{(2)})^{\\rm T} \\cdot \\pmb{\\it{b}}_n\\\\\n",
    "\\vdots & \\vdots & \\ddots & \\vdots \\\\\n",
    "(\\pmb{\\it{a}}^{(m)})^{\\rm T} \\cdot \\pmb{\\it{b}}_1 & (\\pmb{\\it{a}}^{(m)})^{\\rm T} \\cdot \\pmb{\\it{b}}_2 & \\cdots &(\\pmb{\\it{a}}^{(m)})^{\\rm T} \\cdot \\pmb{\\it{b}}_n\n",
    "\\end{bmatrix}\\\\\n",
    "& = C_{m \\times n}\n",
    "\\end{aligned}\n",
    "$$"
   ]
  },
  {
   "cell_type": "code",
   "execution_count": 3,
   "metadata": {
    "tags": []
   },
   "outputs": [
    {
     "name": "stdout",
     "output_type": "stream",
     "text": [
      "[[-8.47383421e-01  5.59837584e-01 -1.23181537e-01]\n",
      " [ 4.46930356e-01  9.55979024e-01  7.69917408e-02]\n",
      " [ 2.24092732e-03 -8.55897733e-01 -4.63122040e-01]\n",
      " [-2.34998349e-04  3.58459992e-01  6.07478072e-01]\n",
      " [-2.38117734e-01 -8.68127306e-01 -4.23708801e-01]\n",
      " [ 8.19187055e-01 -5.73229293e-01 -9.57520764e-02]]\n",
      "[[ 0.86241204 -0.95020154  0.20109783  0.900259  ]\n",
      " [-0.53939424  0.09697984  0.81825675 -0.73366111]\n",
      " [ 0.04682516  0.50081972  0.33802648 -0.06449428]]\n",
      "[[-1.03853483  0.79778625  0.24604529 -1.16565111]\n",
      " [-0.12660631 -0.29340424  0.89813826 -0.30397708]\n",
      " [ 0.44191315 -0.31707481 -0.85644097  0.65982502]\n",
      " [-0.16510866  0.33922368  0.49860873 -0.30237858]\n",
      " [ 0.24306704 -0.07013273 -0.90146078  0.4498704 ]\n",
      " [ 1.01118975 -0.88193902 -0.33667873  1.16421202]]\n"
     ]
    },
    {
     "data": {
      "text/plain": [
       "(array([0.5, 1.5, 2.5, 3.5, 4.5, 5.5]),\n",
       " [Text(0, 0.5, '1'),\n",
       "  Text(0, 1.5, '2'),\n",
       "  Text(0, 2.5, '3'),\n",
       "  Text(0, 3.5, '4'),\n",
       "  Text(0, 4.5, '5'),\n",
       "  Text(0, 5.5, '6')])"
      ]
     },
     "execution_count": 3,
     "metadata": {},
     "output_type": "execute_result"
    },
    {
     "data": {
      "image/png": "[encoded data removed]",
      "text/plain": [
       "<Figure size 1200x300 with 8 Axes>"
      ]
     },
     "metadata": {},
     "output_type": "display_data"
    }
   ],
   "source": [
    "# TODO:Bk3_Ch2_10_A\n",
    "import numpy as np\n",
    "from matplotlib import pyplot as plt\n",
    "import seaborn as sns\n",
    "\n",
    "\n",
    "# Repeatablility\n",
    "# 通过种子固定生成的随机数\n",
    "np.random.seed(7)\n",
    "\n",
    "# Generate matrix A and B\n",
    "m = 6\n",
    "p = 3\n",
    "n = 4\n",
    "\n",
    "# 使用uniform在-1到1之间产生m*p个均匀分布的随机数\n",
    "# 然后用reshape生成指定形状的array\n",
    "A = np.random.uniform(-1, 1, m*p).reshape(m, p)\n",
    "B = np.random.uniform(-1, 1, p*n).reshape(p, n)\n",
    "\n",
    "C = A@B\n",
    "\n",
    "print(A)\n",
    "print(B)\n",
    "print(C)\n",
    "\n",
    "all_max = 1\n",
    "all_min = -1\n",
    "\n",
    "# %% matrix multipliacation, first perespecive\n",
    "\n",
    "fig, axs = plt.subplots(1, 5, figsize=(12, 3))\n",
    "\n",
    "plt.sca(axs[0])\n",
    "ax = sns.heatmap(A, cmap='RdBu_r', vmax=all_max, vmin=all_min,\n",
    "                 cbar_kws={\"orientation\": \"horizontal\"},\n",
    "                 yticklabels=np.arange(1, m+1), xticklabels=np.arange(1, p+1))\n",
    "ax.set_aspect(\"equal\")\n",
    "plt.title('$A$')\n",
    "plt.yticks(rotation=0)\n",
    "\n",
    "plt.sca(axs[1])\n",
    "plt.title('$@$')\n",
    "plt.axis('off')\n",
    "\n",
    "plt.sca(axs[2])\n",
    "ax = sns.heatmap(B, cmap=\"RdBu_r\", vmax=all_max, vmin=all_min,\n",
    "                 cbar_kws={\"orientation\": \"horizontal\"},\n",
    "                 yticklabels=np.arange(1, p+1), xticklabels=np.arange(1, n+1))\n",
    "ax.set_aspect('equal')\n",
    "plt.title('$B$')\n",
    "plt.yticks(rotation=0)\n",
    "\n",
    "plt.sca(axs[3])\n",
    "plt.title('$=$')\n",
    "plt.axis('off')\n",
    "\n",
    "plt.sca(axs[4])\n",
    "ax = sns.heatmap(C, cmap=\"RdBu_r\", vmax=all_max, vmin=all_min,\n",
    "                 cbar_kws={\"orientation\": \"horizontal\"},\n",
    "                 yticklabels=np.arange(1, m+1), xticklabels=np.arange(1, n+1))\n",
    "ax.set_aspect('equal')\n",
    "plt.title('$C$')\n",
    "plt.yticks(rotation=0)\n",
    "\n"
   ]
  },
  {
   "cell_type": "markdown",
   "metadata": {},
   "source": [
    "## 矩阵乘法第二视角\n",
    "\n",
    "### 两个$2 \\times 2$向量相乘\n",
    "设：\n",
    "$$\n",
    "A=\n",
    "\\begin{bmatrix}\n",
    "a_{1,1}&a_{1,2}\\\\\n",
    "a_{2,1}&a_{2,2}\n",
    "\\end{bmatrix},\n",
    "B=\n",
    "\\begin{bmatrix}\n",
    "b_{1,1}&b_{1,2}\\\\\n",
    "b_{2,1}&b_{2,2}\n",
    "\\end{bmatrix}\n",
    "$$\n",
    "有如下推导\n",
    "$$\n",
    "\\begin{aligned}\n",
    "A@B & =\n",
    "\\begin{bmatrix}\n",
    "\\begin{bmatrix}\n",
    "a_{1,1}\\\\\n",
    "a_{2,1}\n",
    "\\end{bmatrix}_{2 \\times 1}&\n",
    "\\begin{bmatrix}\n",
    "a_{1,2}\\\\\n",
    "a_{2,2}\n",
    "\\end{bmatrix}_{2 \\times 1}\n",
    "\\end{bmatrix}\n",
    "\\begin{bmatrix}\n",
    "\\begin{bmatrix}\n",
    "b_{1,1}&b_{1,2}\n",
    "\\end{bmatrix}_{1 \\times 2}\\\\\n",
    "\\begin{bmatrix}\n",
    "b_{2,1}&b_{2,2}\n",
    "\\end{bmatrix}_{1 \\times 2}\n",
    "\\end{bmatrix}\\\\\n",
    "& = \n",
    "\\begin{bmatrix}\n",
    "\\pmb{\\it a}_1 & \\pmb{\\it a}_2\n",
    "\\end{bmatrix}\n",
    "\\begin{bmatrix}\n",
    "\\pmb{\\it b}^{(1)} \\\\\n",
    "\\pmb{\\it b}^{(2)}\n",
    "\\end{bmatrix} \\\\\n",
    "& =\n",
    "\\pmb{\\it a}_1\\pmb{\\it b}^{(1)}+\\pmb{\\it a}_2\\pmb{\\it b}^{(2)}\n",
    "\\end{aligned}\n",
    "$$"
   ]
  },
  {
   "cell_type": "markdown",
   "metadata": {},
   "source": [
    "### 更一般情况\n",
    "\n",
    "将矩阵$A_{m \\times p}$写成一系列左右排列的列向量：\n",
    "$$\n",
    "A_{m \\times p}=\n",
    "\\begin{bmatrix}\n",
    "\\pmb{\\it a}_1 & \\pmb{\\it a}_2 & \\cdots & \\pmb{\\it a}_p\n",
    "\\end{bmatrix}_{1 \\times p}\n",
    "$$\n",
    "其中，列向量$a_i$的元素数量为$m$，即行数为$m$。\n",
    "\n",
    "将矩阵$B_{p \\times n}$写成上下叠放的行向量：\n",
    "$$\n",
    "B_{p \\times n}=\n",
    "\\begin{bmatrix}\n",
    "\\pmb{\\it b}^{(1)} \\\\\n",
    "\\pmb{\\it b}^{(2)} \\\\\n",
    "\\vdots \\\\\n",
    "\\pmb{\\it b}^{(p)}\n",
    "\\end{bmatrix}_{p \\times 1}\n",
    "$$\n",
    "其中，行向量\\pmb{\\it b}^{(i)}的元素数量为$n$，即列数为$n$。\n",
    "\n",
    "矩阵$A$和矩阵$B$相乘，可以展开写成$p$个$m \\times n$矩阵相加，\n",
    "$$\n",
    "\\begin{aligned}\n",
    "A@B & =\n",
    "\\begin{bmatrix}\n",
    "\\pmb{\\it a}_1 & \\pmb{\\it a}_2 & \\cdots & \\pmb{\\it a}_p\n",
    "\\end{bmatrix}_{1 \\times p}\n",
    "\\begin{bmatrix}\n",
    "\\pmb{\\it b}^{(1)} \\\\\n",
    "\\pmb{\\it b}^{(2)} \\\\\n",
    "\\vdots \\\\\n",
    "\\pmb{\\it b}^{(p)}\n",
    "\\end{bmatrix}_{p \\times 1} \\\\\n",
    "& =\n",
    "\\underbrace{\\pmb{\\it a}_1\\pmb{\\it b}^{(1)} + \\pmb{\\it a}_2 \\pmb{\\it b}^{(2)} + \\cdots \\pmb{\\it a}_p\\pmb{\\it b}^{(p)}}_{\\it {p} matrices with shape of m x n} \\\\\n",
    "& = C_{m \\times n}\n",
    "\\end{aligned}\n",
    "$$\n",
    "我们可以吧$\\pmb a_k \\pmb b^{(k)}$结果矩阵写成$C_k$，这样$A$和$B$的乘积$C$可以写成$C_k(k=1,2,\\cdots,p)$之和，\n",
    "$$\n",
    "\\pmb a_1 \\pmb b^{(1)}+\\pmb a_2 \\pmb b^{(2)}+ \\cdots \\pmb a_p \\pmb b^{(p)} = C_1+C_2+\\cdots C_p=C\n",
    "$$\n",
    "\n",
    "$\\pmb a_i \\pmb b^{(i)}$的积就是**张量积**。  \n",
    "个人脑洞：一维乘一维得到二维，升维了:P  \n",
    "这就是**主成分分析**用到的主要思想**PCA。**\n",
    "\n",
    "行和列都有倍数关系，这也就是矩阵的**秩**"
   ]
  },
  {
   "cell_type": "code",
   "execution_count": 2,
   "metadata": {
    "tags": []
   },
   "outputs": [
    {
     "data": {
      "text/plain": [
       "(array([0.5, 1.5, 2.5, 3.5, 4.5, 5.5]),\n",
       " [Text(0, 0.5, '1'),\n",
       "  Text(0, 1.5, '2'),\n",
       "  Text(0, 2.5, '3'),\n",
       "  Text(0, 3.5, '4'),\n",
       "  Text(0, 4.5, '5'),\n",
       "  Text(0, 5.5, '6')])"
      ]
     },
     "execution_count": 2,
     "metadata": {},
     "output_type": "execute_result"
    },
    {
     "data": {
      "image/png": "[encoded data removed]",
      "text/plain": [
       "<Figure size 1200x300 with 11 Axes>"
      ]
     },
     "metadata": {},
     "output_type": "display_data"
    }
   ],
   "source": [
    "# BK_Ch2_10_B\n",
    "\n",
    "#%% matrix multiplication, second perespective.\n",
    "\n",
    "import numpy as np\n",
    "from matplotlib import pyplot as plt\n",
    "import seaborn as sns\n",
    "\n",
    "# Repeatablility\n",
    "# 通过种子固定生成的随机数\n",
    "np.random.seed(7)\n",
    "\n",
    "# Generate matrix A and B\n",
    "m = 6\n",
    "p = 3\n",
    "n = 4\n",
    "all_max = 1\n",
    "all_min = -1\n",
    "# 使用uniform在-1到1之间产生m*p个均匀分布的随机数\n",
    "# 然后用reshape生成指定形状的array\n",
    "A = np.random.uniform(-1, 1, m*p).reshape(m, p)\n",
    "B = np.random.uniform(-1, 1, p*n).reshape(p, n)\n",
    "\n",
    "C1 = A[:, [0]]@B[[0], :]\n",
    "C2 = A[:, [1]]@B[[1], :]\n",
    "C3 = A[:, [2]]@B[[2], :]\n",
    "C = A@B\n",
    "\n",
    "fig, axs = plt.subplots(1, 7, figsize=(12, 3))\n",
    "\n",
    "plt.sca(axs[0])\n",
    "ax = sns.heatmap(C1, cmap='RdBu_r', vmax=all_max, vmin=all_min,\n",
    "                 cbar_kws={\"orientation\": \"horizontal\"},\n",
    "                 yticklabels=np.arange(1, m+1), xticklabels=np.arange(1, n+1))\n",
    "ax.set_aspect('equal')\n",
    "plt.title('$C_1$')\n",
    "plt.yticks(rotation=0)\n",
    "\n",
    "plt.sca(axs[1])\n",
    "plt.title('$+$')\n",
    "plt.axis('off')\n",
    "\n",
    "plt.sca(axs[2])\n",
    "ax = sns.heatmap(C2, cmap='RdBu_r', vmax=all_max, vmin=all_min,\n",
    "                 cbar_kws={\"orientation\": \"horizontal\"},\n",
    "                 yticklabels=np.arange(1, m+1), xticklabels=np.arange(1, n+1))\n",
    "ax.set_aspect('equal')\n",
    "plt.title('$C_2$')\n",
    "plt.yticks(rotation=0)\n",
    "\n",
    "plt.sca(axs[3])\n",
    "plt.title('$+$')\n",
    "plt.axis('off')\n",
    "\n",
    "plt.sca(axs[4])\n",
    "ax = sns.heatmap(C3, cmap='RdBu_r', vmax=all_max, vmin=all_min,\n",
    "                 cbar_kws={\"orientation\": \"horizontal\"},\n",
    "                 yticklabels=np.arange(1, m+1), xticklabels=np.arange(1, n+1))\n",
    "ax.set_aspect('equal')\n",
    "plt.title('$C_3$')\n",
    "plt.yticks(rotation=0)\n",
    "\n",
    "plt.sca(axs[5])\n",
    "plt.title('$=$')\n",
    "plt.axis('off')\n",
    "\n",
    "plt.sca(axs[6])\n",
    "ax = sns.heatmap(C, cmap='RdBu_r', vmax=all_max, vmin=all_min,\n",
    "                 cbar_kws={\"orientation\": \"horizontal\"},\n",
    "                 yticklabels=np.arange(1, m+1), xticklabels=np.arange(1, n+1))\n",
    "ax.set_aspect('equal')\n",
    "plt.title('$C$')\n",
    "plt.yticks(rotation=0)\n"
   ]
  },
  {
   "cell_type": "markdown",
   "metadata": {},
   "source": [
    "## 矩阵除法\n",
    "\n",
    "实际上没有矩阵除法，矩阵$B$除以矩阵$A$，实际是计算矩阵$B$与矩阵$A$的逆矩阵$A^{-1}$的乘积\n",
    "$$\n",
    "BA^{-1}=B@A^{-1}\n",
    "$$\n",
    "\n",
    "矩阵$A$如果可逆，仅当$A$为方阵，且存在矩阵$A^{-1}$使得下式成立。\n",
    "$$\n",
    "AA^{-1}=A^{-1}A=I\n",
    "$$\n",
    "其中$I$为单位阵。单位阵是对角线全为1，其它全为0的矩阵，如下。\n",
    "$$\n",
    "I_{n \\times n} =\n",
    "\\begin{bmatrix}\n",
    "1 & 0 & \\cdots & 0\\\\\n",
    "0 & 1 & \\cdots & 0\\\\\n",
    "\\vdots & \\vdots & \\ddots & \\vdots\\\\\n",
    "0 & 0 & \\cdots & 1\n",
    "\\end{bmatrix}\n",
    "$$"
   ]
  },
  {
   "cell_type": "markdown",
   "metadata": {},
   "source": [
    "一般情况下\n",
    "$$\n",
    "(A+B)^{-1} \\not=A^{-1}+B^{-1}\n",
    "$$\n",
    "和逆矩阵有关的运算规则：\n",
    "$$\n",
    "(A^{\\rm T})^{-1} = (A^{-1})^{\\rm T}\n",
    "(AB)^{-1}=B^{-1}A^{-1}\n",
    "(ABC)^{-1}=C^{-1}B^{-1}A^{-1}\n",
    "(kA)^{-1}={1 \\over k}A^{-1}\n",
    "$$"
   ]
  },
  {
   "cell_type": "code",
   "execution_count": 1,
   "metadata": {
    "tags": []
   },
   "outputs": [
    {
     "data": {
      "text/plain": [
       "(array([0.5, 1.5, 2.5, 3.5]),\n",
       " [Text(0, 0.5, '1'), Text(0, 1.5, '2'), Text(0, 2.5, '3'), Text(0, 3.5, '4')])"
      ]
     },
     "execution_count": 1,
     "metadata": {},
     "output_type": "execute_result"
    },
    {
     "data": {
      "image/png": "[encoded data removed]",
      "text/plain": [
       "<Figure size 1200x300 with 8 Axes>"
      ]
     },
     "metadata": {},
     "output_type": "display_data"
    }
   ],
   "source": [
    "# Bk3_Ch2_11\n",
    "\n",
    "import numpy as np\n",
    "from numpy.linalg import inv\n",
    "from matplotlib import pyplot as plt\n",
    "import seaborn as sns\n",
    "\n",
    "# Repeatability\n",
    "np.random.seed(0)\n",
    "# Generate matrix A\n",
    "n = 4\n",
    "A = np.random.uniform(-1.5,1.5,n*n).reshape(n, n)\n",
    "\n",
    "all_max = 1.5\n",
    "all_min = -1.5\n",
    "\n",
    "# matrix inverse\n",
    "A_inverse = inv(A)\n",
    "\n",
    "fig, axs = plt.subplots(1, 5, figsize=(12, 3))\n",
    "\n",
    "plt.sca(axs[0])\n",
    "ax = sns.heatmap(A,cmap='RdBu_r',vmax = all_max,vmin = all_min,\n",
    "                 cbar_kws={\"orientation\": \"horizontal\"},\n",
    "                 yticklabels=np.arange(1,n+1), xticklabels=np.arange(1,n+1),\n",
    "                 annot = True,fmt=\".2f\")\n",
    "ax.set_aspect(\"equal\")\n",
    "plt.title('$A$')\n",
    "plt.yticks(rotation=0) \n",
    "\n",
    "plt.sca(axs[1])\n",
    "plt.title('$@$')\n",
    "plt.axis('off')\n",
    "\n",
    "plt.sca(axs[2])\n",
    "ax = sns.heatmap(A_inverse,cmap='RdBu_r',vmax = all_max,vmin = all_min,\n",
    "                 cbar_kws={\"orientation\": \"horizontal\"},\n",
    "                 yticklabels=np.arange(1,n+1), xticklabels=np.arange(1,n+1),\n",
    "                 annot = True,fmt=\".2f\")\n",
    "ax.set_aspect(\"equal\")\n",
    "plt.title('$A^{-1}$')\n",
    "plt.yticks(rotation=0) \n",
    "\n",
    "plt.sca(axs[3])\n",
    "plt.title('$=$')\n",
    "plt.axis('off')\n",
    "\n",
    "plt.sca(axs[4])\n",
    "ax = sns.heatmap(A@A_inverse,cmap='RdBu_r',vmax = all_max,vmin = all_min,\n",
    "                 cbar_kws={\"orientation\": \"horizontal\"},\n",
    "                 yticklabels=np.arange(1,n+1), xticklabels=np.arange(1,n+1),\n",
    "                 annot = True,fmt=\".2f\")\n",
    "ax.set_aspect(\"equal\")\n",
    "plt.title('$I$')\n",
    "plt.yticks(rotation=0) \n"
   ]
  }
 ],
 "metadata": {
  "kernelspec": {
   "display_name": "Python 3 (ipykernel)",
   "language": "python",
   "name": "python3"
  },
  "language_info": {
   "codemirror_mode": {
    "name": "ipython",
    "version": 3
   },
   "file_extension": ".py",
   "mimetype": "text/x-python",
   "name": "python",
   "nbconvert_exporter": "python",
   "pygments_lexer": "ipython3",
   "version": "3.10.6"
  }
 },
 "nbformat": 4,
 "nbformat_minor": 4
}
